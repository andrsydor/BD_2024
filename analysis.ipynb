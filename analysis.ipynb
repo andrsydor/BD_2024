{
 "cells": [
  {
   "cell_type": "markdown",
   "metadata": {},
   "source": [
    "# Import"
   ]
  },
  {
   "cell_type": "code",
   "execution_count": 1,
   "metadata": {},
   "outputs": [
    {
     "data": {
      "text/plain": [
       "'d:\\\\pp_git\\\\BD_2024\\\\venv\\\\lib\\\\site-packages\\\\pyspark'"
      ]
     },
     "execution_count": 1,
     "metadata": {},
     "output_type": "execute_result"
    }
   ],
   "source": [
    "import findspark\n",
    "findspark.init()\n",
    "findspark.find()"
   ]
  },
  {
   "cell_type": "code",
   "execution_count": 2,
   "metadata": {},
   "outputs": [],
   "source": [
    "from delta import configure_spark_with_delta_pip\n",
    "\n",
    "import networkx as nx\n",
    "import matplotlib.pyplot as plt\n",
    "import pandas as pd\n",
    "\n",
    "from pyspark.ml.fpm import FPGrowth\n",
    "from pyspark.sql import functions as f\n",
    "from pyspark.sql import SparkSession\n",
    "from pyspark.sql.window import Window\n",
    "\n",
    "from core.csv_data_manager import CSVDataManager\n",
    "from core.delta_lake_manager import DeltaLakeManager\n",
    "from core.environment import Environment\n",
    "\n",
    "from metadata import deltalake\n",
    "from metadata.columns import StackExchangeColumns as columns"
   ]
  },
  {
   "cell_type": "markdown",
   "metadata": {},
   "source": [
    "# Session"
   ]
  },
  {
   "cell_type": "code",
   "execution_count": 3,
   "metadata": {},
   "outputs": [],
   "source": [
    "environment = Environment()"
   ]
  },
  {
   "cell_type": "code",
   "execution_count": 4,
   "metadata": {},
   "outputs": [],
   "source": [
    "builder = (\n",
    "    SparkSession.builder\n",
    "        .master(environment.spark_master())\n",
    "        .appName(environment.app_name())\n",
    "        .config(\"spark.sql.extensions\", \"io.delta.sql.DeltaSparkSessionExtension\")\n",
    "        .config(\"spark.sql.catalog.spark_catalog\", \"org.apache.spark.sql.delta.catalog.DeltaCatalog\")\n",
    ")\n",
    "spark_session = configure_spark_with_delta_pip(builder).getOrCreate()\n",
    "spark_session.sparkContext.setLogLevel(\"ERROR\")"
   ]
  },
  {
   "cell_type": "code",
   "execution_count": 5,
   "metadata": {},
   "outputs": [],
   "source": [
    "deltalake_manages = DeltaLakeManager(spark_session, environment.data_directory_path(), deltalake.DELTALAKE_NAME)\n",
    "csv_data_manager = CSVDataManager(spark_session, environment.data_directory_path())"
   ]
  },
  {
   "cell_type": "markdown",
   "metadata": {},
   "source": [
    "# Load"
   ]
  },
  {
   "cell_type": "code",
   "execution_count": 6,
   "metadata": {},
   "outputs": [],
   "source": [
    "questions = deltalake_manages.read(deltalake.PROCESSED_QUESTIONS)\n",
    "answers = deltalake_manages.read(deltalake.PROCESSED_ANSWERS)\n",
    "comments = deltalake_manages.read(deltalake.PROCESSED_COMMENTS)"
   ]
  },
  {
   "cell_type": "code",
   "execution_count": 7,
   "metadata": {},
   "outputs": [],
   "source": [
    "questions = questions.withColumn(columns.partition_date, f.to_timestamp(columns.partition_date, 'dd_MM_yyyy'))\n",
    "answers = answers.withColumn(columns.partition_date, f.to_timestamp(columns.partition_date, 'dd_MM_yyyy'))\n",
    "comments = comments.withColumn(columns.partition_date, f.to_timestamp(columns.partition_date, 'dd_MM_yyyy'))"
   ]
  },
  {
   "cell_type": "markdown",
   "metadata": {},
   "source": [
    "# General info"
   ]
  },
  {
   "cell_type": "code",
   "execution_count": 44,
   "metadata": {},
   "outputs": [],
   "source": [
    "general_info_pd = pd.DataFrame({\n",
    "    'Category': [\"Questions\", \"Answers\", \"Comments\"],\n",
    "    'Count': [questions.count(), answers.count(), comments.count()],\n",
    "})\n",
    "general_info_df = spark_session.createDataFrame(general_info_pd)"
   ]
  },
  {
   "cell_type": "code",
   "execution_count": 46,
   "metadata": {},
   "outputs": [],
   "source": [
    "# csv_data_manager.write(general_info_df, \"/general_info\")"
   ]
  },
  {
   "cell_type": "code",
   "execution_count": 45,
   "metadata": {},
   "outputs": [
    {
     "name": "stdout",
     "output_type": "stream",
     "text": [
      "+---------+-----+\n",
      "| Category|Count|\n",
      "+---------+-----+\n",
      "|Questions|18400|\n",
      "|  Answers|20235|\n",
      "| Comments|58318|\n",
      "+---------+-----+\n",
      "\n"
     ]
    }
   ],
   "source": [
    "general_info_df.show()"
   ]
  },
  {
   "cell_type": "code",
   "execution_count": 54,
   "metadata": {},
   "outputs": [
    {
     "data": {
      "application/vnd.plotly.v1+json": {
       "config": {
        "displayModeBar": false,
        "plotlyServerURL": "https://plot.ly"
       },
       "data": [
        {
         "alignmentgroup": "True",
         "hovertemplate": "Category=%{x}<br>Count=%{y}<extra></extra>",
         "legendgroup": "Questions",
         "marker": {
          "color": "#636efa",
          "pattern": {
           "shape": ""
          }
         },
         "name": "Questions",
         "offsetgroup": "Questions",
         "orientation": "v",
         "showlegend": true,
         "textposition": "auto",
         "type": "bar",
         "x": [
          "Questions"
         ],
         "xaxis": "x",
         "y": [
          18400
         ],
         "yaxis": "y"
        },
        {
         "alignmentgroup": "True",
         "hovertemplate": "Category=%{x}<br>Count=%{y}<extra></extra>",
         "legendgroup": "Answers",
         "marker": {
          "color": "#EF553B",
          "pattern": {
           "shape": ""
          }
         },
         "name": "Answers",
         "offsetgroup": "Answers",
         "orientation": "v",
         "showlegend": true,
         "textposition": "auto",
         "type": "bar",
         "x": [
          "Answers"
         ],
         "xaxis": "x",
         "y": [
          20235
         ],
         "yaxis": "y"
        },
        {
         "alignmentgroup": "True",
         "hovertemplate": "Category=%{x}<br>Count=%{y}<extra></extra>",
         "legendgroup": "Comments",
         "marker": {
          "color": "#00cc96",
          "pattern": {
           "shape": ""
          }
         },
         "name": "Comments",
         "offsetgroup": "Comments",
         "orientation": "v",
         "showlegend": true,
         "textposition": "auto",
         "type": "bar",
         "x": [
          "Comments"
         ],
         "xaxis": "x",
         "y": [
          58318
         ],
         "yaxis": "y"
        }
       ],
       "layout": {
        "barmode": "relative",
        "legend": {
         "title": {
          "text": "Category"
         },
         "tracegroupgap": 0
        },
        "template": {
         "data": {
          "bar": [
           {
            "error_x": {
             "color": "#2a3f5f"
            },
            "error_y": {
             "color": "#2a3f5f"
            },
            "marker": {
             "line": {
              "color": "#E5ECF6",
              "width": 0.5
             },
             "pattern": {
              "fillmode": "overlay",
              "size": 10,
              "solidity": 0.2
             }
            },
            "type": "bar"
           }
          ],
          "barpolar": [
           {
            "marker": {
             "line": {
              "color": "#E5ECF6",
              "width": 0.5
             },
             "pattern": {
              "fillmode": "overlay",
              "size": 10,
              "solidity": 0.2
             }
            },
            "type": "barpolar"
           }
          ],
          "carpet": [
           {
            "aaxis": {
             "endlinecolor": "#2a3f5f",
             "gridcolor": "white",
             "linecolor": "white",
             "minorgridcolor": "white",
             "startlinecolor": "#2a3f5f"
            },
            "baxis": {
             "endlinecolor": "#2a3f5f",
             "gridcolor": "white",
             "linecolor": "white",
             "minorgridcolor": "white",
             "startlinecolor": "#2a3f5f"
            },
            "type": "carpet"
           }
          ],
          "choropleth": [
           {
            "colorbar": {
             "outlinewidth": 0,
             "ticks": ""
            },
            "type": "choropleth"
           }
          ],
          "contour": [
           {
            "colorbar": {
             "outlinewidth": 0,
             "ticks": ""
            },
            "colorscale": [
             [
              0,
              "#0d0887"
             ],
             [
              0.1111111111111111,
              "#46039f"
             ],
             [
              0.2222222222222222,
              "#7201a8"
             ],
             [
              0.3333333333333333,
              "#9c179e"
             ],
             [
              0.4444444444444444,
              "#bd3786"
             ],
             [
              0.5555555555555556,
              "#d8576b"
             ],
             [
              0.6666666666666666,
              "#ed7953"
             ],
             [
              0.7777777777777778,
              "#fb9f3a"
             ],
             [
              0.8888888888888888,
              "#fdca26"
             ],
             [
              1,
              "#f0f921"
             ]
            ],
            "type": "contour"
           }
          ],
          "contourcarpet": [
           {
            "colorbar": {
             "outlinewidth": 0,
             "ticks": ""
            },
            "type": "contourcarpet"
           }
          ],
          "heatmap": [
           {
            "colorbar": {
             "outlinewidth": 0,
             "ticks": ""
            },
            "colorscale": [
             [
              0,
              "#0d0887"
             ],
             [
              0.1111111111111111,
              "#46039f"
             ],
             [
              0.2222222222222222,
              "#7201a8"
             ],
             [
              0.3333333333333333,
              "#9c179e"
             ],
             [
              0.4444444444444444,
              "#bd3786"
             ],
             [
              0.5555555555555556,
              "#d8576b"
             ],
             [
              0.6666666666666666,
              "#ed7953"
             ],
             [
              0.7777777777777778,
              "#fb9f3a"
             ],
             [
              0.8888888888888888,
              "#fdca26"
             ],
             [
              1,
              "#f0f921"
             ]
            ],
            "type": "heatmap"
           }
          ],
          "heatmapgl": [
           {
            "colorbar": {
             "outlinewidth": 0,
             "ticks": ""
            },
            "colorscale": [
             [
              0,
              "#0d0887"
             ],
             [
              0.1111111111111111,
              "#46039f"
             ],
             [
              0.2222222222222222,
              "#7201a8"
             ],
             [
              0.3333333333333333,
              "#9c179e"
             ],
             [
              0.4444444444444444,
              "#bd3786"
             ],
             [
              0.5555555555555556,
              "#d8576b"
             ],
             [
              0.6666666666666666,
              "#ed7953"
             ],
             [
              0.7777777777777778,
              "#fb9f3a"
             ],
             [
              0.8888888888888888,
              "#fdca26"
             ],
             [
              1,
              "#f0f921"
             ]
            ],
            "type": "heatmapgl"
           }
          ],
          "histogram": [
           {
            "marker": {
             "pattern": {
              "fillmode": "overlay",
              "size": 10,
              "solidity": 0.2
             }
            },
            "type": "histogram"
           }
          ],
          "histogram2d": [
           {
            "colorbar": {
             "outlinewidth": 0,
             "ticks": ""
            },
            "colorscale": [
             [
              0,
              "#0d0887"
             ],
             [
              0.1111111111111111,
              "#46039f"
             ],
             [
              0.2222222222222222,
              "#7201a8"
             ],
             [
              0.3333333333333333,
              "#9c179e"
             ],
             [
              0.4444444444444444,
              "#bd3786"
             ],
             [
              0.5555555555555556,
              "#d8576b"
             ],
             [
              0.6666666666666666,
              "#ed7953"
             ],
             [
              0.7777777777777778,
              "#fb9f3a"
             ],
             [
              0.8888888888888888,
              "#fdca26"
             ],
             [
              1,
              "#f0f921"
             ]
            ],
            "type": "histogram2d"
           }
          ],
          "histogram2dcontour": [
           {
            "colorbar": {
             "outlinewidth": 0,
             "ticks": ""
            },
            "colorscale": [
             [
              0,
              "#0d0887"
             ],
             [
              0.1111111111111111,
              "#46039f"
             ],
             [
              0.2222222222222222,
              "#7201a8"
             ],
             [
              0.3333333333333333,
              "#9c179e"
             ],
             [
              0.4444444444444444,
              "#bd3786"
             ],
             [
              0.5555555555555556,
              "#d8576b"
             ],
             [
              0.6666666666666666,
              "#ed7953"
             ],
             [
              0.7777777777777778,
              "#fb9f3a"
             ],
             [
              0.8888888888888888,
              "#fdca26"
             ],
             [
              1,
              "#f0f921"
             ]
            ],
            "type": "histogram2dcontour"
           }
          ],
          "mesh3d": [
           {
            "colorbar": {
             "outlinewidth": 0,
             "ticks": ""
            },
            "type": "mesh3d"
           }
          ],
          "parcoords": [
           {
            "line": {
             "colorbar": {
              "outlinewidth": 0,
              "ticks": ""
             }
            },
            "type": "parcoords"
           }
          ],
          "pie": [
           {
            "automargin": true,
            "type": "pie"
           }
          ],
          "scatter": [
           {
            "fillpattern": {
             "fillmode": "overlay",
             "size": 10,
             "solidity": 0.2
            },
            "type": "scatter"
           }
          ],
          "scatter3d": [
           {
            "line": {
             "colorbar": {
              "outlinewidth": 0,
              "ticks": ""
             }
            },
            "marker": {
             "colorbar": {
              "outlinewidth": 0,
              "ticks": ""
             }
            },
            "type": "scatter3d"
           }
          ],
          "scattercarpet": [
           {
            "marker": {
             "colorbar": {
              "outlinewidth": 0,
              "ticks": ""
             }
            },
            "type": "scattercarpet"
           }
          ],
          "scattergeo": [
           {
            "marker": {
             "colorbar": {
              "outlinewidth": 0,
              "ticks": ""
             }
            },
            "type": "scattergeo"
           }
          ],
          "scattergl": [
           {
            "marker": {
             "colorbar": {
              "outlinewidth": 0,
              "ticks": ""
             }
            },
            "type": "scattergl"
           }
          ],
          "scattermapbox": [
           {
            "marker": {
             "colorbar": {
              "outlinewidth": 0,
              "ticks": ""
             }
            },
            "type": "scattermapbox"
           }
          ],
          "scatterpolar": [
           {
            "marker": {
             "colorbar": {
              "outlinewidth": 0,
              "ticks": ""
             }
            },
            "type": "scatterpolar"
           }
          ],
          "scatterpolargl": [
           {
            "marker": {
             "colorbar": {
              "outlinewidth": 0,
              "ticks": ""
             }
            },
            "type": "scatterpolargl"
           }
          ],
          "scatterternary": [
           {
            "marker": {
             "colorbar": {
              "outlinewidth": 0,
              "ticks": ""
             }
            },
            "type": "scatterternary"
           }
          ],
          "surface": [
           {
            "colorbar": {
             "outlinewidth": 0,
             "ticks": ""
            },
            "colorscale": [
             [
              0,
              "#0d0887"
             ],
             [
              0.1111111111111111,
              "#46039f"
             ],
             [
              0.2222222222222222,
              "#7201a8"
             ],
             [
              0.3333333333333333,
              "#9c179e"
             ],
             [
              0.4444444444444444,
              "#bd3786"
             ],
             [
              0.5555555555555556,
              "#d8576b"
             ],
             [
              0.6666666666666666,
              "#ed7953"
             ],
             [
              0.7777777777777778,
              "#fb9f3a"
             ],
             [
              0.8888888888888888,
              "#fdca26"
             ],
             [
              1,
              "#f0f921"
             ]
            ],
            "type": "surface"
           }
          ],
          "table": [
           {
            "cells": {
             "fill": {
              "color": "#EBF0F8"
             },
             "line": {
              "color": "white"
             }
            },
            "header": {
             "fill": {
              "color": "#C8D4E3"
             },
             "line": {
              "color": "white"
             }
            },
            "type": "table"
           }
          ]
         },
         "layout": {
          "annotationdefaults": {
           "arrowcolor": "#2a3f5f",
           "arrowhead": 0,
           "arrowwidth": 1
          },
          "autotypenumbers": "strict",
          "coloraxis": {
           "colorbar": {
            "outlinewidth": 0,
            "ticks": ""
           }
          },
          "colorscale": {
           "diverging": [
            [
             0,
             "#8e0152"
            ],
            [
             0.1,
             "#c51b7d"
            ],
            [
             0.2,
             "#de77ae"
            ],
            [
             0.3,
             "#f1b6da"
            ],
            [
             0.4,
             "#fde0ef"
            ],
            [
             0.5,
             "#f7f7f7"
            ],
            [
             0.6,
             "#e6f5d0"
            ],
            [
             0.7,
             "#b8e186"
            ],
            [
             0.8,
             "#7fbc41"
            ],
            [
             0.9,
             "#4d9221"
            ],
            [
             1,
             "#276419"
            ]
           ],
           "sequential": [
            [
             0,
             "#0d0887"
            ],
            [
             0.1111111111111111,
             "#46039f"
            ],
            [
             0.2222222222222222,
             "#7201a8"
            ],
            [
             0.3333333333333333,
             "#9c179e"
            ],
            [
             0.4444444444444444,
             "#bd3786"
            ],
            [
             0.5555555555555556,
             "#d8576b"
            ],
            [
             0.6666666666666666,
             "#ed7953"
            ],
            [
             0.7777777777777778,
             "#fb9f3a"
            ],
            [
             0.8888888888888888,
             "#fdca26"
            ],
            [
             1,
             "#f0f921"
            ]
           ],
           "sequentialminus": [
            [
             0,
             "#0d0887"
            ],
            [
             0.1111111111111111,
             "#46039f"
            ],
            [
             0.2222222222222222,
             "#7201a8"
            ],
            [
             0.3333333333333333,
             "#9c179e"
            ],
            [
             0.4444444444444444,
             "#bd3786"
            ],
            [
             0.5555555555555556,
             "#d8576b"
            ],
            [
             0.6666666666666666,
             "#ed7953"
            ],
            [
             0.7777777777777778,
             "#fb9f3a"
            ],
            [
             0.8888888888888888,
             "#fdca26"
            ],
            [
             1,
             "#f0f921"
            ]
           ]
          },
          "colorway": [
           "#636efa",
           "#EF553B",
           "#00cc96",
           "#ab63fa",
           "#FFA15A",
           "#19d3f3",
           "#FF6692",
           "#B6E880",
           "#FF97FF",
           "#FECB52"
          ],
          "font": {
           "color": "#2a3f5f"
          },
          "geo": {
           "bgcolor": "white",
           "lakecolor": "white",
           "landcolor": "#E5ECF6",
           "showlakes": true,
           "showland": true,
           "subunitcolor": "white"
          },
          "hoverlabel": {
           "align": "left"
          },
          "hovermode": "closest",
          "mapbox": {
           "style": "light"
          },
          "paper_bgcolor": "white",
          "plot_bgcolor": "#E5ECF6",
          "polar": {
           "angularaxis": {
            "gridcolor": "white",
            "linecolor": "white",
            "ticks": ""
           },
           "bgcolor": "#E5ECF6",
           "radialaxis": {
            "gridcolor": "white",
            "linecolor": "white",
            "ticks": ""
           }
          },
          "scene": {
           "xaxis": {
            "backgroundcolor": "#E5ECF6",
            "gridcolor": "white",
            "gridwidth": 2,
            "linecolor": "white",
            "showbackground": true,
            "ticks": "",
            "zerolinecolor": "white"
           },
           "yaxis": {
            "backgroundcolor": "#E5ECF6",
            "gridcolor": "white",
            "gridwidth": 2,
            "linecolor": "white",
            "showbackground": true,
            "ticks": "",
            "zerolinecolor": "white"
           },
           "zaxis": {
            "backgroundcolor": "#E5ECF6",
            "gridcolor": "white",
            "gridwidth": 2,
            "linecolor": "white",
            "showbackground": true,
            "ticks": "",
            "zerolinecolor": "white"
           }
          },
          "shapedefaults": {
           "line": {
            "color": "#2a3f5f"
           }
          },
          "ternary": {
           "aaxis": {
            "gridcolor": "white",
            "linecolor": "white",
            "ticks": ""
           },
           "baxis": {
            "gridcolor": "white",
            "linecolor": "white",
            "ticks": ""
           },
           "bgcolor": "#E5ECF6",
           "caxis": {
            "gridcolor": "white",
            "linecolor": "white",
            "ticks": ""
           }
          },
          "title": {
           "x": 0.05
          },
          "xaxis": {
           "automargin": true,
           "gridcolor": "white",
           "linecolor": "white",
           "ticks": "",
           "title": {
            "standoff": 15
           },
           "zerolinecolor": "white",
           "zerolinewidth": 2
          },
          "yaxis": {
           "automargin": true,
           "gridcolor": "white",
           "linecolor": "white",
           "ticks": "",
           "title": {
            "standoff": 15
           },
           "zerolinecolor": "white",
           "zerolinewidth": 2
          }
         }
        },
        "title": {
         "text": "Activity over the time"
        },
        "xaxis": {
         "anchor": "y",
         "categoryarray": [
          "Questions",
          "Answers",
          "Comments"
         ],
         "categoryorder": "array",
         "domain": [
          0,
          1
         ],
         "title": {
          "text": "Category"
         }
        },
        "yaxis": {
         "anchor": "x",
         "domain": [
          0,
          1
         ],
         "title": {
          "text": "Count"
         }
        }
       }
      }
     },
     "metadata": {},
     "output_type": "display_data"
    }
   ],
   "source": [
    "fig = px.bar(\n",
    "    general_info_df.toPandas(),\n",
    "    x=\"Category\", y=\"Count\", title=\"Activity over the time\", color=\"Category\")\n",
    "fig.show(\n",
    "    config={\n",
    "        'displayModeBar': False\n",
    "    }\n",
    ")"
   ]
  },
  {
   "cell_type": "markdown",
   "metadata": {},
   "source": [
    "# Assosiation rules"
   ]
  },
  {
   "cell_type": "code",
   "execution_count": 55,
   "metadata": {},
   "outputs": [],
   "source": [
    "id_tag_df = questions.select(\n",
    "    columns.id, f.sort_array(columns.tags).alias(columns.tags)\n",
    ")"
   ]
  },
  {
   "cell_type": "code",
   "execution_count": 56,
   "metadata": {},
   "outputs": [],
   "source": [
    "fpGrowth = FPGrowth(itemsCol=columns.tags, minSupport=0.01, minConfidence=0.1)\n",
    "model = fpGrowth.fit(id_tag_df)"
   ]
  },
  {
   "cell_type": "code",
   "execution_count": 57,
   "metadata": {},
   "outputs": [
    {
     "name": "stdout",
     "output_type": "stream",
     "text": [
      "+---------------------+----+\n",
      "|items                |freq|\n",
      "+---------------------+----+\n",
      "|[swift]              |275 |\n",
      "|[dart]               |209 |\n",
      "|[dart, flutter]      |203 |\n",
      "|[typescript]         |504 |\n",
      "|[sql]                |331 |\n",
      "|[amazon-web-services]|263 |\n",
      "|[node.js]            |484 |\n",
      "|[postgresql]         |237 |\n",
      "|[reactjs]            |1000|\n",
      "|[reactjs, javascript]|346 |\n",
      "|[ios]                |289 |\n",
      "|[android]            |738 |\n",
      "|[angular]            |411 |\n",
      "|[c#]                 |816 |\n",
      "|[php]                |423 |\n",
      "|[python-3.x]         |275 |\n",
      "|[laravel]            |213 |\n",
      "|[flutter]            |582 |\n",
      "|[next.js]            |351 |\n",
      "|[pandas]             |265 |\n",
      "|[pandas, python]     |214 |\n",
      "|[c++]                |493 |\n",
      "|[javascript]         |1518|\n",
      "|[kotlin]             |241 |\n",
      "|[django]             |290 |\n",
      "|[c]                  |250 |\n",
      "|[r]                  |496 |\n",
      "|[docker]             |313 |\n",
      "|[react-native]       |284 |\n",
      "|[java]               |864 |\n",
      "|[css]                |468 |\n",
      "|[css, html]          |295 |\n",
      "|[azure]              |227 |\n",
      "|[spring-boot]        |352 |\n",
      "|[spring-boot, java]  |185 |\n",
      "|[spring]             |189 |\n",
      "|[html]               |603 |\n",
      "|[html, javascript]   |257 |\n",
      "|[excel]              |272 |\n",
      "|[python]             |2176|\n",
      "+---------------------+----+\n",
      "\n"
     ]
    }
   ],
   "source": [
    "model.freqItemsets.show(100, False)"
   ]
  },
  {
   "cell_type": "code",
   "execution_count": 64,
   "metadata": {},
   "outputs": [],
   "source": [
    "top_most_frequent_tags = model.freqItemsets.sort(\n",
    "    f.desc(\"freq\")\n",
    "    ).withColumn(\"items\", f.concat_ws(\"-\", f.col(\"items\"))).limit(16)"
   ]
  },
  {
   "cell_type": "code",
   "execution_count": null,
   "metadata": {},
   "outputs": [],
   "source": [
    "# csv_data_manager.write(top_most_frequent_tags, \"/top_most_frequent_tags\")"
   ]
  },
  {
   "cell_type": "code",
   "execution_count": 67,
   "metadata": {},
   "outputs": [
    {
     "data": {
      "application/vnd.plotly.v1+json": {
       "config": {
        "displayModeBar": false,
        "plotlyServerURL": "https://plot.ly"
       },
       "data": [
        {
         "alignmentgroup": "True",
         "hovertemplate": "items=%{x}<br>freq=%{marker.color}<extra></extra>",
         "legendgroup": "",
         "marker": {
          "color": [
           2176,
           1518,
           1000,
           864,
           816,
           738,
           603,
           582,
           504,
           496,
           493,
           484,
           468,
           423,
           411,
           352
          ],
          "coloraxis": "coloraxis",
          "pattern": {
           "shape": ""
          }
         },
         "name": "",
         "offsetgroup": "",
         "orientation": "v",
         "showlegend": false,
         "textposition": "auto",
         "type": "bar",
         "x": [
          "python",
          "javascript",
          "reactjs",
          "java",
          "c#",
          "android",
          "html",
          "flutter",
          "typescript",
          "r",
          "c++",
          "node.js",
          "css",
          "php",
          "angular",
          "spring-boot"
         ],
         "xaxis": "x",
         "y": [
          2176,
          1518,
          1000,
          864,
          816,
          738,
          603,
          582,
          504,
          496,
          493,
          484,
          468,
          423,
          411,
          352
         ],
         "yaxis": "y"
        }
       ],
       "layout": {
        "barmode": "relative",
        "coloraxis": {
         "colorbar": {
          "title": {
           "text": "freq"
          }
         },
         "colorscale": [
          [
           0,
           "#0d0887"
          ],
          [
           0.1111111111111111,
           "#46039f"
          ],
          [
           0.2222222222222222,
           "#7201a8"
          ],
          [
           0.3333333333333333,
           "#9c179e"
          ],
          [
           0.4444444444444444,
           "#bd3786"
          ],
          [
           0.5555555555555556,
           "#d8576b"
          ],
          [
           0.6666666666666666,
           "#ed7953"
          ],
          [
           0.7777777777777778,
           "#fb9f3a"
          ],
          [
           0.8888888888888888,
           "#fdca26"
          ],
          [
           1,
           "#f0f921"
          ]
         ]
        },
        "legend": {
         "tracegroupgap": 0
        },
        "template": {
         "data": {
          "bar": [
           {
            "error_x": {
             "color": "#2a3f5f"
            },
            "error_y": {
             "color": "#2a3f5f"
            },
            "marker": {
             "line": {
              "color": "#E5ECF6",
              "width": 0.5
             },
             "pattern": {
              "fillmode": "overlay",
              "size": 10,
              "solidity": 0.2
             }
            },
            "type": "bar"
           }
          ],
          "barpolar": [
           {
            "marker": {
             "line": {
              "color": "#E5ECF6",
              "width": 0.5
             },
             "pattern": {
              "fillmode": "overlay",
              "size": 10,
              "solidity": 0.2
             }
            },
            "type": "barpolar"
           }
          ],
          "carpet": [
           {
            "aaxis": {
             "endlinecolor": "#2a3f5f",
             "gridcolor": "white",
             "linecolor": "white",
             "minorgridcolor": "white",
             "startlinecolor": "#2a3f5f"
            },
            "baxis": {
             "endlinecolor": "#2a3f5f",
             "gridcolor": "white",
             "linecolor": "white",
             "minorgridcolor": "white",
             "startlinecolor": "#2a3f5f"
            },
            "type": "carpet"
           }
          ],
          "choropleth": [
           {
            "colorbar": {
             "outlinewidth": 0,
             "ticks": ""
            },
            "type": "choropleth"
           }
          ],
          "contour": [
           {
            "colorbar": {
             "outlinewidth": 0,
             "ticks": ""
            },
            "colorscale": [
             [
              0,
              "#0d0887"
             ],
             [
              0.1111111111111111,
              "#46039f"
             ],
             [
              0.2222222222222222,
              "#7201a8"
             ],
             [
              0.3333333333333333,
              "#9c179e"
             ],
             [
              0.4444444444444444,
              "#bd3786"
             ],
             [
              0.5555555555555556,
              "#d8576b"
             ],
             [
              0.6666666666666666,
              "#ed7953"
             ],
             [
              0.7777777777777778,
              "#fb9f3a"
             ],
             [
              0.8888888888888888,
              "#fdca26"
             ],
             [
              1,
              "#f0f921"
             ]
            ],
            "type": "contour"
           }
          ],
          "contourcarpet": [
           {
            "colorbar": {
             "outlinewidth": 0,
             "ticks": ""
            },
            "type": "contourcarpet"
           }
          ],
          "heatmap": [
           {
            "colorbar": {
             "outlinewidth": 0,
             "ticks": ""
            },
            "colorscale": [
             [
              0,
              "#0d0887"
             ],
             [
              0.1111111111111111,
              "#46039f"
             ],
             [
              0.2222222222222222,
              "#7201a8"
             ],
             [
              0.3333333333333333,
              "#9c179e"
             ],
             [
              0.4444444444444444,
              "#bd3786"
             ],
             [
              0.5555555555555556,
              "#d8576b"
             ],
             [
              0.6666666666666666,
              "#ed7953"
             ],
             [
              0.7777777777777778,
              "#fb9f3a"
             ],
             [
              0.8888888888888888,
              "#fdca26"
             ],
             [
              1,
              "#f0f921"
             ]
            ],
            "type": "heatmap"
           }
          ],
          "heatmapgl": [
           {
            "colorbar": {
             "outlinewidth": 0,
             "ticks": ""
            },
            "colorscale": [
             [
              0,
              "#0d0887"
             ],
             [
              0.1111111111111111,
              "#46039f"
             ],
             [
              0.2222222222222222,
              "#7201a8"
             ],
             [
              0.3333333333333333,
              "#9c179e"
             ],
             [
              0.4444444444444444,
              "#bd3786"
             ],
             [
              0.5555555555555556,
              "#d8576b"
             ],
             [
              0.6666666666666666,
              "#ed7953"
             ],
             [
              0.7777777777777778,
              "#fb9f3a"
             ],
             [
              0.8888888888888888,
              "#fdca26"
             ],
             [
              1,
              "#f0f921"
             ]
            ],
            "type": "heatmapgl"
           }
          ],
          "histogram": [
           {
            "marker": {
             "pattern": {
              "fillmode": "overlay",
              "size": 10,
              "solidity": 0.2
             }
            },
            "type": "histogram"
           }
          ],
          "histogram2d": [
           {
            "colorbar": {
             "outlinewidth": 0,
             "ticks": ""
            },
            "colorscale": [
             [
              0,
              "#0d0887"
             ],
             [
              0.1111111111111111,
              "#46039f"
             ],
             [
              0.2222222222222222,
              "#7201a8"
             ],
             [
              0.3333333333333333,
              "#9c179e"
             ],
             [
              0.4444444444444444,
              "#bd3786"
             ],
             [
              0.5555555555555556,
              "#d8576b"
             ],
             [
              0.6666666666666666,
              "#ed7953"
             ],
             [
              0.7777777777777778,
              "#fb9f3a"
             ],
             [
              0.8888888888888888,
              "#fdca26"
             ],
             [
              1,
              "#f0f921"
             ]
            ],
            "type": "histogram2d"
           }
          ],
          "histogram2dcontour": [
           {
            "colorbar": {
             "outlinewidth": 0,
             "ticks": ""
            },
            "colorscale": [
             [
              0,
              "#0d0887"
             ],
             [
              0.1111111111111111,
              "#46039f"
             ],
             [
              0.2222222222222222,
              "#7201a8"
             ],
             [
              0.3333333333333333,
              "#9c179e"
             ],
             [
              0.4444444444444444,
              "#bd3786"
             ],
             [
              0.5555555555555556,
              "#d8576b"
             ],
             [
              0.6666666666666666,
              "#ed7953"
             ],
             [
              0.7777777777777778,
              "#fb9f3a"
             ],
             [
              0.8888888888888888,
              "#fdca26"
             ],
             [
              1,
              "#f0f921"
             ]
            ],
            "type": "histogram2dcontour"
           }
          ],
          "mesh3d": [
           {
            "colorbar": {
             "outlinewidth": 0,
             "ticks": ""
            },
            "type": "mesh3d"
           }
          ],
          "parcoords": [
           {
            "line": {
             "colorbar": {
              "outlinewidth": 0,
              "ticks": ""
             }
            },
            "type": "parcoords"
           }
          ],
          "pie": [
           {
            "automargin": true,
            "type": "pie"
           }
          ],
          "scatter": [
           {
            "fillpattern": {
             "fillmode": "overlay",
             "size": 10,
             "solidity": 0.2
            },
            "type": "scatter"
           }
          ],
          "scatter3d": [
           {
            "line": {
             "colorbar": {
              "outlinewidth": 0,
              "ticks": ""
             }
            },
            "marker": {
             "colorbar": {
              "outlinewidth": 0,
              "ticks": ""
             }
            },
            "type": "scatter3d"
           }
          ],
          "scattercarpet": [
           {
            "marker": {
             "colorbar": {
              "outlinewidth": 0,
              "ticks": ""
             }
            },
            "type": "scattercarpet"
           }
          ],
          "scattergeo": [
           {
            "marker": {
             "colorbar": {
              "outlinewidth": 0,
              "ticks": ""
             }
            },
            "type": "scattergeo"
           }
          ],
          "scattergl": [
           {
            "marker": {
             "colorbar": {
              "outlinewidth": 0,
              "ticks": ""
             }
            },
            "type": "scattergl"
           }
          ],
          "scattermapbox": [
           {
            "marker": {
             "colorbar": {
              "outlinewidth": 0,
              "ticks": ""
             }
            },
            "type": "scattermapbox"
           }
          ],
          "scatterpolar": [
           {
            "marker": {
             "colorbar": {
              "outlinewidth": 0,
              "ticks": ""
             }
            },
            "type": "scatterpolar"
           }
          ],
          "scatterpolargl": [
           {
            "marker": {
             "colorbar": {
              "outlinewidth": 0,
              "ticks": ""
             }
            },
            "type": "scatterpolargl"
           }
          ],
          "scatterternary": [
           {
            "marker": {
             "colorbar": {
              "outlinewidth": 0,
              "ticks": ""
             }
            },
            "type": "scatterternary"
           }
          ],
          "surface": [
           {
            "colorbar": {
             "outlinewidth": 0,
             "ticks": ""
            },
            "colorscale": [
             [
              0,
              "#0d0887"
             ],
             [
              0.1111111111111111,
              "#46039f"
             ],
             [
              0.2222222222222222,
              "#7201a8"
             ],
             [
              0.3333333333333333,
              "#9c179e"
             ],
             [
              0.4444444444444444,
              "#bd3786"
             ],
             [
              0.5555555555555556,
              "#d8576b"
             ],
             [
              0.6666666666666666,
              "#ed7953"
             ],
             [
              0.7777777777777778,
              "#fb9f3a"
             ],
             [
              0.8888888888888888,
              "#fdca26"
             ],
             [
              1,
              "#f0f921"
             ]
            ],
            "type": "surface"
           }
          ],
          "table": [
           {
            "cells": {
             "fill": {
              "color": "#EBF0F8"
             },
             "line": {
              "color": "white"
             }
            },
            "header": {
             "fill": {
              "color": "#C8D4E3"
             },
             "line": {
              "color": "white"
             }
            },
            "type": "table"
           }
          ]
         },
         "layout": {
          "annotationdefaults": {
           "arrowcolor": "#2a3f5f",
           "arrowhead": 0,
           "arrowwidth": 1
          },
          "autotypenumbers": "strict",
          "coloraxis": {
           "colorbar": {
            "outlinewidth": 0,
            "ticks": ""
           }
          },
          "colorscale": {
           "diverging": [
            [
             0,
             "#8e0152"
            ],
            [
             0.1,
             "#c51b7d"
            ],
            [
             0.2,
             "#de77ae"
            ],
            [
             0.3,
             "#f1b6da"
            ],
            [
             0.4,
             "#fde0ef"
            ],
            [
             0.5,
             "#f7f7f7"
            ],
            [
             0.6,
             "#e6f5d0"
            ],
            [
             0.7,
             "#b8e186"
            ],
            [
             0.8,
             "#7fbc41"
            ],
            [
             0.9,
             "#4d9221"
            ],
            [
             1,
             "#276419"
            ]
           ],
           "sequential": [
            [
             0,
             "#0d0887"
            ],
            [
             0.1111111111111111,
             "#46039f"
            ],
            [
             0.2222222222222222,
             "#7201a8"
            ],
            [
             0.3333333333333333,
             "#9c179e"
            ],
            [
             0.4444444444444444,
             "#bd3786"
            ],
            [
             0.5555555555555556,
             "#d8576b"
            ],
            [
             0.6666666666666666,
             "#ed7953"
            ],
            [
             0.7777777777777778,
             "#fb9f3a"
            ],
            [
             0.8888888888888888,
             "#fdca26"
            ],
            [
             1,
             "#f0f921"
            ]
           ],
           "sequentialminus": [
            [
             0,
             "#0d0887"
            ],
            [
             0.1111111111111111,
             "#46039f"
            ],
            [
             0.2222222222222222,
             "#7201a8"
            ],
            [
             0.3333333333333333,
             "#9c179e"
            ],
            [
             0.4444444444444444,
             "#bd3786"
            ],
            [
             0.5555555555555556,
             "#d8576b"
            ],
            [
             0.6666666666666666,
             "#ed7953"
            ],
            [
             0.7777777777777778,
             "#fb9f3a"
            ],
            [
             0.8888888888888888,
             "#fdca26"
            ],
            [
             1,
             "#f0f921"
            ]
           ]
          },
          "colorway": [
           "#636efa",
           "#EF553B",
           "#00cc96",
           "#ab63fa",
           "#FFA15A",
           "#19d3f3",
           "#FF6692",
           "#B6E880",
           "#FF97FF",
           "#FECB52"
          ],
          "font": {
           "color": "#2a3f5f"
          },
          "geo": {
           "bgcolor": "white",
           "lakecolor": "white",
           "landcolor": "#E5ECF6",
           "showlakes": true,
           "showland": true,
           "subunitcolor": "white"
          },
          "hoverlabel": {
           "align": "left"
          },
          "hovermode": "closest",
          "mapbox": {
           "style": "light"
          },
          "paper_bgcolor": "white",
          "plot_bgcolor": "#E5ECF6",
          "polar": {
           "angularaxis": {
            "gridcolor": "white",
            "linecolor": "white",
            "ticks": ""
           },
           "bgcolor": "#E5ECF6",
           "radialaxis": {
            "gridcolor": "white",
            "linecolor": "white",
            "ticks": ""
           }
          },
          "scene": {
           "xaxis": {
            "backgroundcolor": "#E5ECF6",
            "gridcolor": "white",
            "gridwidth": 2,
            "linecolor": "white",
            "showbackground": true,
            "ticks": "",
            "zerolinecolor": "white"
           },
           "yaxis": {
            "backgroundcolor": "#E5ECF6",
            "gridcolor": "white",
            "gridwidth": 2,
            "linecolor": "white",
            "showbackground": true,
            "ticks": "",
            "zerolinecolor": "white"
           },
           "zaxis": {
            "backgroundcolor": "#E5ECF6",
            "gridcolor": "white",
            "gridwidth": 2,
            "linecolor": "white",
            "showbackground": true,
            "ticks": "",
            "zerolinecolor": "white"
           }
          },
          "shapedefaults": {
           "line": {
            "color": "#2a3f5f"
           }
          },
          "ternary": {
           "aaxis": {
            "gridcolor": "white",
            "linecolor": "white",
            "ticks": ""
           },
           "baxis": {
            "gridcolor": "white",
            "linecolor": "white",
            "ticks": ""
           },
           "bgcolor": "#E5ECF6",
           "caxis": {
            "gridcolor": "white",
            "linecolor": "white",
            "ticks": ""
           }
          },
          "title": {
           "x": 0.05
          },
          "xaxis": {
           "automargin": true,
           "gridcolor": "white",
           "linecolor": "white",
           "ticks": "",
           "title": {
            "standoff": 15
           },
           "zerolinecolor": "white",
           "zerolinewidth": 2
          },
          "yaxis": {
           "automargin": true,
           "gridcolor": "white",
           "linecolor": "white",
           "ticks": "",
           "title": {
            "standoff": 15
           },
           "zerolinecolor": "white",
           "zerolinewidth": 2
          }
         }
        },
        "title": {
         "text": "TEst"
        },
        "xaxis": {
         "anchor": "y",
         "domain": [
          0,
          1
         ],
         "title": {
          "text": "items"
         }
        },
        "yaxis": {
         "anchor": "x",
         "domain": [
          0,
          1
         ],
         "title": {
          "text": "freq"
         }
        }
       }
      }
     },
     "metadata": {},
     "output_type": "display_data"
    }
   ],
   "source": [
    "fig = px.bar(\n",
    "    top_most_frequent_tags.toPandas(),\n",
    "    x=\"items\", y=\"freq\", title=\"TEst\", color=\"freq\")\n",
    "fig.show(\n",
    "    config={\n",
    "        'displayModeBar': False\n",
    "    }\n",
    ")"
   ]
  },
  {
   "cell_type": "code",
   "execution_count": 72,
   "metadata": {},
   "outputs": [],
   "source": [
    "association_rules_df = model.associationRules.withColumn(\n",
    "    \"antecedent\", f.concat_ws(\"-\", f.col(\"antecedent\"))\n",
    ").withColumn(\n",
    "    \"consequent\", f.concat_ws(\"-\", f.col(\"consequent\"))\n",
    ")"
   ]
  },
  {
   "cell_type": "code",
   "execution_count": null,
   "metadata": {},
   "outputs": [],
   "source": [
    "# csv_data_manager.write(association_rules_df, \"/association_rules_df\")"
   ]
  },
  {
   "cell_type": "code",
   "execution_count": null,
   "metadata": {},
   "outputs": [],
   "source": []
  },
  {
   "cell_type": "code",
   "execution_count": 76,
   "metadata": {},
   "outputs": [
    {
     "data": {
      "image/png": "[encoded data removed]",
      "text/plain": [
       "<Figure size 800x800 with 1 Axes>"
      ]
     },
     "metadata": {},
     "output_type": "display_data"
    }
   ],
   "source": [
    "G = nx.DiGraph()\n",
    "\n",
    "for index, row in association_rules_df.toPandas().iterrows():\n",
    "    antecedent = row['antecedent']\n",
    "    consequent = row['consequent']\n",
    "    # confidence = row['confidence']\n",
    "    support = row['support']\n",
    "    \n",
    "    G.add_edge(antecedent, consequent, weight=support, label=f\"{support:.4f}\")\n",
    "\n",
    "plt.figure(figsize=(8, 8))\n",
    "pos = nx.spring_layout(\n",
    "    # G, k=0.7\n",
    "    G, \n",
    "    k=0.8,\n",
    "    seed=24\n",
    "    )\n",
    "edges = G.edges(data=True)\n",
    "\n",
    "nx.draw(\n",
    "    G, pos, with_labels=True, node_color='#ff6f00', node_size=5000,\n",
    "    font_size=10, font_color='black', font_weight='bold', arrowsize=20\n",
    ")\n",
    "\n",
    "edge_labels = {(u, v): d['label'] for u, v, d in edges}\n",
    "nx.draw_networkx_edge_labels(G, pos, edge_labels=edge_labels, font_size=10)\n",
    "\n",
    "plt.title(\"Support of Tags Association Rules\")\n",
    "plt.show()\n"
   ]
  },
  {
   "cell_type": "code",
   "execution_count": 75,
   "metadata": {},
   "outputs": [],
   "source": [
    "# freqItemsets = model.freqItemsets.sort(f.desc(\"freq\")).limit(16).toPandas()\n",
    "# items = [str(i) for i in freqItemsets[\"items\"].to_list()]\n",
    "# freq = freqItemsets[\"freq\"].to_list()\n",
    "\n",
    "# plt.figure(figsize=(20, 8))\n",
    "# bars = plt.bar(items, freq, width=0.7, color=\"#ff6f00\")\n",
    "\n",
    "# for bar in bars:\n",
    "#     value = bar.get_height()\n",
    "#     plt.text(\n",
    "#         bar.get_x() + bar.get_width() / 2,\n",
    "#         value + 0.5,\n",
    "#         f'{value}',  # Text to display\n",
    "#         ha='center',\n",
    "#         va='bottom'\n",
    "#     )\n",
    "\n",
    "# plt.title('Technology Frequency')\n",
    "# plt.xlabel('Technology stack')\n",
    "# plt.ylabel('Frequency')\n",
    "# plt.show()"
   ]
  },
  {
   "cell_type": "code",
   "execution_count": 74,
   "metadata": {},
   "outputs": [],
   "source": [
    "# G = nx.DiGraph()\n",
    "\n",
    "# for index, row in model.associationRules.toPandas().iterrows():\n",
    "#     antecedent = ', '.join(row['antecedent'])\n",
    "#     consequent = ', '.join(row['consequent'])\n",
    "#     # confidence = row['confidence']\n",
    "#     support = row['support']\n",
    "    \n",
    "#     G.add_edge(antecedent, consequent, weight=support, label=f\"{support:.4f}\")\n",
    "\n",
    "# plt.figure(figsize=(8, 8))\n",
    "# pos = nx.spring_layout(\n",
    "#     # G, k=0.7\n",
    "#     G, \n",
    "#     k=0.8,\n",
    "#     seed=24\n",
    "#     )\n",
    "# edges = G.edges(data=True)\n",
    "\n",
    "# nx.draw(\n",
    "#     G, pos, with_labels=True, node_color='#ff6f00', node_size=5000,\n",
    "#     font_size=10, font_color='black', font_weight='bold', arrowsize=20\n",
    "# )\n",
    "\n",
    "# edge_labels = {(u, v): d['label'] for u, v, d in edges}\n",
    "# nx.draw_networkx_edge_labels(G, pos, edge_labels=edge_labels, font_size=10)\n",
    "\n",
    "# plt.title(\"Support of Tags Association Rules\")\n",
    "# plt.show()\n"
   ]
  },
  {
   "cell_type": "code",
   "execution_count": 81,
   "metadata": {},
   "outputs": [],
   "source": [
    "# G = nx.DiGraph()\n",
    "\n",
    "# for index, row in model.associationRules.toPandas().iterrows():\n",
    "#     antecedent = ', '.join(row['antecedent'])\n",
    "#     consequent = ', '.join(row['consequent'])\n",
    "#     # confidence = row['confidence']\n",
    "#     support = row['support']\n",
    "    \n",
    "#     G.add_edge(antecedent, consequent, weight=-support, label=f\"{support:.4f}\")\n",
    "\n",
    "# plt.figure(figsize=(12, 8))\n",
    "# pos = nx.spring_layout(G, k=1.0)\n",
    "# edges = G.edges(data=True)\n",
    "\n",
    "# nx.draw(\n",
    "#     G, pos, with_labels=True, node_color='orange', node_size=5000,\n",
    "#     font_size=10, font_color='black', font_weight='bold', arrowsize=20\n",
    "# )\n",
    "\n",
    "# edge_labels = {(u, v): d['label'] for u, v, d in edges}\n",
    "# nx.draw_networkx_edge_labels(G, pos, edge_labels=edge_labels, font_size=10)\n",
    "\n",
    "# plt.title(\"Support of Tags Association Rules\")\n",
    "# plt.show()\n"
   ]
  },
  {
   "cell_type": "markdown",
   "metadata": {},
   "source": [
    "# Tags frequecy through time"
   ]
  },
  {
   "cell_type": "code",
   "execution_count": 33,
   "metadata": {},
   "outputs": [],
   "source": [
    "partitionDataWindow = Window.partitionBy(columns.partition_date).orderBy(f.desc(columns.count))\n",
    "rank_column = \"Rank\"\n",
    "\n",
    "tag_frequency_through_time = questions.select(\n",
    "        columns.partition_date, f.explode(columns.tags).alias(columns.tag)\n",
    "    ).withColumn(\n",
    "        columns.count, f.lit(1)\n",
    "    ).groupBy(\n",
    "        columns.partition_date, columns.tag\n",
    "    ).agg(\n",
    "        f.sum(columns.count).alias(columns.count)\n",
    "    ).withColumn(\n",
    "        rank_column,\n",
    "        f.row_number().over(partitionDataWindow)\n",
    "    ).filter(\n",
    "        f.col(rank_column) <= 7\n",
    "    ).drop(\n",
    "        rank_column\n",
    "    )"
   ]
  },
  {
   "cell_type": "code",
   "execution_count": 34,
   "metadata": {},
   "outputs": [],
   "source": [
    "most_freq_tags = tag_frequency_through_time.select(f.collect_set(columns.tag)).first()[0]"
   ]
  },
  {
   "cell_type": "code",
   "execution_count": 35,
   "metadata": {},
   "outputs": [
    {
     "data": {
      "text/plain": [
       "['java',\n",
       " 'flutter',\n",
       " 'javascript',\n",
       " 'c++',\n",
       " 'html',\n",
       " 'c#',\n",
       " 'typescript',\n",
       " 'python',\n",
       " 'android',\n",
       " 'reactjs']"
      ]
     },
     "execution_count": 35,
     "metadata": {},
     "output_type": "execute_result"
    }
   ],
   "source": [
    "most_freq_tags"
   ]
  },
  {
   "cell_type": "code",
   "execution_count": 11,
   "metadata": {},
   "outputs": [],
   "source": [
    "tag_frequency_through_time = questions.select(\n",
    "        columns.partition_date, f.explode(columns.tags).alias(columns.tag)\n",
    "    ).withColumn(\n",
    "        columns.count, f.lit(1)\n",
    "    ).groupBy(\n",
    "        columns.partition_date, columns.tag\n",
    "    ).agg(\n",
    "        f.sum(columns.count).alias(columns.count)\n",
    "    ).filter(\n",
    "        f.col(columns.tag).isin(most_freq_tags)\n",
    "    ).sort(\n",
    "        f.col(columns.partition_date), f.col(columns.tag)\n",
    "    )"
   ]
  },
  {
   "cell_type": "code",
   "execution_count": 30,
   "metadata": {},
   "outputs": [],
   "source": [
    "# csv_data_manager.write(tag_frequency_through_time, \"/tags_frequency\")"
   ]
  },
  {
   "cell_type": "code",
   "execution_count": 31,
   "metadata": {},
   "outputs": [],
   "source": [
    "pd_df = tag_frequency_through_time.toPandas()"
   ]
  },
  {
   "cell_type": "code",
   "execution_count": 32,
   "metadata": {},
   "outputs": [
    {
     "data": {
      "application/vnd.plotly.v1+json": {
       "config": {
        "plotlyServerURL": "https://plot.ly"
       },
       "data": [
        {
         "hovertemplate": "Tag=android<br>PartitionDate=%{x}<br>Count=%{y}<extra></extra>",
         "legendgroup": "android",
         "line": {
          "color": "#636efa",
          "dash": "solid"
         },
         "marker": {
          "symbol": "circle"
         },
         "mode": "lines+markers",
         "name": "android",
         "orientation": "v",
         "showlegend": true,
         "type": "scatter",
         "x": [
          "2024-01-01T00:00:00",
          "2024-01-02T00:00:00",
          "2024-01-03T00:00:00",
          "2024-01-04T00:00:00",
          "2024-01-05T00:00:00",
          "2024-01-06T00:00:00",
          "2024-01-07T00:00:00",
          "2024-01-08T00:00:00",
          "2024-01-09T00:00:00",
          "2024-01-10T00:00:00"
         ],
         "xaxis": "x",
         "y": [
          41,
          76,
          80,
          96,
          82,
          53,
          38,
          86,
          91,
          95
         ],
         "yaxis": "y"
        },
        {
         "hovertemplate": "Tag=c#<br>PartitionDate=%{x}<br>Count=%{y}<extra></extra>",
         "legendgroup": "c#",
         "line": {
          "color": "#EF553B",
          "dash": "solid"
         },
         "marker": {
          "symbol": "circle"
         },
         "mode": "lines+markers",
         "name": "c#",
         "orientation": "v",
         "showlegend": true,
         "type": "scatter",
         "x": [
          "2024-01-01T00:00:00",
          "2024-01-02T00:00:00",
          "2024-01-03T00:00:00",
          "2024-01-04T00:00:00",
          "2024-01-05T00:00:00",
          "2024-01-06T00:00:00",
          "2024-01-07T00:00:00",
          "2024-01-08T00:00:00",
          "2024-01-09T00:00:00",
          "2024-01-10T00:00:00"
         ],
         "xaxis": "x",
         "y": [
          37,
          82,
          88,
          119,
          82,
          56,
          58,
          83,
          104,
          107
         ],
         "yaxis": "y"
        },
        {
         "hovertemplate": "Tag=c++<br>PartitionDate=%{x}<br>Count=%{y}<extra></extra>",
         "legendgroup": "c++",
         "line": {
          "color": "#00cc96",
          "dash": "solid"
         },
         "marker": {
          "symbol": "circle"
         },
         "mode": "lines+markers",
         "name": "c++",
         "orientation": "v",
         "showlegend": true,
         "type": "scatter",
         "x": [
          "2024-01-01T00:00:00",
          "2024-01-02T00:00:00",
          "2024-01-03T00:00:00",
          "2024-01-04T00:00:00",
          "2024-01-05T00:00:00",
          "2024-01-06T00:00:00",
          "2024-01-07T00:00:00",
          "2024-01-08T00:00:00",
          "2024-01-09T00:00:00",
          "2024-01-10T00:00:00"
         ],
         "xaxis": "x",
         "y": [
          27,
          40,
          53,
          67,
          59,
          37,
          44,
          50,
          63,
          53
         ],
         "yaxis": "y"
        },
        {
         "hovertemplate": "Tag=flutter<br>PartitionDate=%{x}<br>Count=%{y}<extra></extra>",
         "legendgroup": "flutter",
         "line": {
          "color": "#ab63fa",
          "dash": "solid"
         },
         "marker": {
          "symbol": "circle"
         },
         "mode": "lines+markers",
         "name": "flutter",
         "orientation": "v",
         "showlegend": true,
         "type": "scatter",
         "x": [
          "2024-01-01T00:00:00",
          "2024-01-02T00:00:00",
          "2024-01-03T00:00:00",
          "2024-01-04T00:00:00",
          "2024-01-05T00:00:00",
          "2024-01-06T00:00:00",
          "2024-01-07T00:00:00",
          "2024-01-08T00:00:00",
          "2024-01-09T00:00:00",
          "2024-01-10T00:00:00"
         ],
         "xaxis": "x",
         "y": [
          42,
          50,
          84,
          65,
          57,
          42,
          40,
          59,
          78,
          65
         ],
         "yaxis": "y"
        },
        {
         "hovertemplate": "Tag=html<br>PartitionDate=%{x}<br>Count=%{y}<extra></extra>",
         "legendgroup": "html",
         "line": {
          "color": "#FFA15A",
          "dash": "solid"
         },
         "marker": {
          "symbol": "circle"
         },
         "mode": "lines+markers",
         "name": "html",
         "orientation": "v",
         "showlegend": true,
         "type": "scatter",
         "x": [
          "2024-01-01T00:00:00",
          "2024-01-02T00:00:00",
          "2024-01-03T00:00:00",
          "2024-01-04T00:00:00",
          "2024-01-05T00:00:00",
          "2024-01-06T00:00:00",
          "2024-01-07T00:00:00",
          "2024-01-08T00:00:00",
          "2024-01-09T00:00:00",
          "2024-01-10T00:00:00"
         ],
         "xaxis": "x",
         "y": [
          42,
          57,
          65,
          73,
          54,
          37,
          51,
          61,
          79,
          84
         ],
         "yaxis": "y"
        },
        {
         "hovertemplate": "Tag=java<br>PartitionDate=%{x}<br>Count=%{y}<extra></extra>",
         "legendgroup": "java",
         "line": {
          "color": "#19d3f3",
          "dash": "solid"
         },
         "marker": {
          "symbol": "circle"
         },
         "mode": "lines+markers",
         "name": "java",
         "orientation": "v",
         "showlegend": true,
         "type": "scatter",
         "x": [
          "2024-01-01T00:00:00",
          "2024-01-02T00:00:00",
          "2024-01-03T00:00:00",
          "2024-01-04T00:00:00",
          "2024-01-05T00:00:00",
          "2024-01-06T00:00:00",
          "2024-01-07T00:00:00",
          "2024-01-08T00:00:00",
          "2024-01-09T00:00:00",
          "2024-01-10T00:00:00"
         ],
         "xaxis": "x",
         "y": [
          34,
          102,
          100,
          96,
          72,
          54,
          52,
          118,
          113,
          123
         ],
         "yaxis": "y"
        },
        {
         "hovertemplate": "Tag=javascript<br>PartitionDate=%{x}<br>Count=%{y}<extra></extra>",
         "legendgroup": "javascript",
         "line": {
          "color": "#FF6692",
          "dash": "solid"
         },
         "marker": {
          "symbol": "circle"
         },
         "mode": "lines+markers",
         "name": "javascript",
         "orientation": "v",
         "showlegend": true,
         "type": "scatter",
         "x": [
          "2024-01-01T00:00:00",
          "2024-01-02T00:00:00",
          "2024-01-03T00:00:00",
          "2024-01-04T00:00:00",
          "2024-01-05T00:00:00",
          "2024-01-06T00:00:00",
          "2024-01-07T00:00:00",
          "2024-01-08T00:00:00",
          "2024-01-09T00:00:00",
          "2024-01-10T00:00:00"
         ],
         "xaxis": "x",
         "y": [
          91,
          157,
          162,
          198,
          168,
          103,
          95,
          164,
          191,
          189
         ],
         "yaxis": "y"
        },
        {
         "hovertemplate": "Tag=python<br>PartitionDate=%{x}<br>Count=%{y}<extra></extra>",
         "legendgroup": "python",
         "line": {
          "color": "#B6E880",
          "dash": "solid"
         },
         "marker": {
          "symbol": "circle"
         },
         "mode": "lines+markers",
         "name": "python",
         "orientation": "v",
         "showlegend": true,
         "type": "scatter",
         "x": [
          "2024-01-01T00:00:00",
          "2024-01-02T00:00:00",
          "2024-01-03T00:00:00",
          "2024-01-04T00:00:00",
          "2024-01-05T00:00:00",
          "2024-01-06T00:00:00",
          "2024-01-07T00:00:00",
          "2024-01-08T00:00:00",
          "2024-01-09T00:00:00",
          "2024-01-10T00:00:00"
         ],
         "xaxis": "x",
         "y": [
          143,
          217,
          268,
          263,
          241,
          147,
          157,
          232,
          243,
          265
         ],
         "yaxis": "y"
        },
        {
         "hovertemplate": "Tag=reactjs<br>PartitionDate=%{x}<br>Count=%{y}<extra></extra>",
         "legendgroup": "reactjs",
         "line": {
          "color": "#FF97FF",
          "dash": "solid"
         },
         "marker": {
          "symbol": "circle"
         },
         "mode": "lines+markers",
         "name": "reactjs",
         "orientation": "v",
         "showlegend": true,
         "type": "scatter",
         "x": [
          "2024-01-01T00:00:00",
          "2024-01-02T00:00:00",
          "2024-01-03T00:00:00",
          "2024-01-04T00:00:00",
          "2024-01-05T00:00:00",
          "2024-01-06T00:00:00",
          "2024-01-07T00:00:00",
          "2024-01-08T00:00:00",
          "2024-01-09T00:00:00",
          "2024-01-10T00:00:00"
         ],
         "xaxis": "x",
         "y": [
          58,
          96,
          119,
          106,
          115,
          66,
          76,
          112,
          121,
          131
         ],
         "yaxis": "y"
        },
        {
         "hovertemplate": "Tag=typescript<br>PartitionDate=%{x}<br>Count=%{y}<extra></extra>",
         "legendgroup": "typescript",
         "line": {
          "color": "#FECB52",
          "dash": "solid"
         },
         "marker": {
          "symbol": "circle"
         },
         "mode": "lines+markers",
         "name": "typescript",
         "orientation": "v",
         "showlegend": true,
         "type": "scatter",
         "x": [
          "2024-01-01T00:00:00",
          "2024-01-02T00:00:00",
          "2024-01-03T00:00:00",
          "2024-01-04T00:00:00",
          "2024-01-05T00:00:00",
          "2024-01-06T00:00:00",
          "2024-01-07T00:00:00",
          "2024-01-08T00:00:00",
          "2024-01-09T00:00:00",
          "2024-01-10T00:00:00"
         ],
         "xaxis": "x",
         "y": [
          18,
          43,
          73,
          64,
          49,
          29,
          39,
          66,
          63,
          60
         ],
         "yaxis": "y"
        }
       ],
       "layout": {
        "legend": {
         "title": {
          "text": "Tag"
         },
         "tracegroupgap": 0
        },
        "template": {
         "data": {
          "bar": [
           {
            "error_x": {
             "color": "#2a3f5f"
            },
            "error_y": {
             "color": "#2a3f5f"
            },
            "marker": {
             "line": {
              "color": "#E5ECF6",
              "width": 0.5
             },
             "pattern": {
              "fillmode": "overlay",
              "size": 10,
              "solidity": 0.2
             }
            },
            "type": "bar"
           }
          ],
          "barpolar": [
           {
            "marker": {
             "line": {
              "color": "#E5ECF6",
              "width": 0.5
             },
             "pattern": {
              "fillmode": "overlay",
              "size": 10,
              "solidity": 0.2
             }
            },
            "type": "barpolar"
           }
          ],
          "carpet": [
           {
            "aaxis": {
             "endlinecolor": "#2a3f5f",
             "gridcolor": "white",
             "linecolor": "white",
             "minorgridcolor": "white",
             "startlinecolor": "#2a3f5f"
            },
            "baxis": {
             "endlinecolor": "#2a3f5f",
             "gridcolor": "white",
             "linecolor": "white",
             "minorgridcolor": "white",
             "startlinecolor": "#2a3f5f"
            },
            "type": "carpet"
           }
          ],
          "choropleth": [
           {
            "colorbar": {
             "outlinewidth": 0,
             "ticks": ""
            },
            "type": "choropleth"
           }
          ],
          "contour": [
           {
            "colorbar": {
             "outlinewidth": 0,
             "ticks": ""
            },
            "colorscale": [
             [
              0,
              "#0d0887"
             ],
             [
              0.1111111111111111,
              "#46039f"
             ],
             [
              0.2222222222222222,
              "#7201a8"
             ],
             [
              0.3333333333333333,
              "#9c179e"
             ],
             [
              0.4444444444444444,
              "#bd3786"
             ],
             [
              0.5555555555555556,
              "#d8576b"
             ],
             [
              0.6666666666666666,
              "#ed7953"
             ],
             [
              0.7777777777777778,
              "#fb9f3a"
             ],
             [
              0.8888888888888888,
              "#fdca26"
             ],
             [
              1,
              "#f0f921"
             ]
            ],
            "type": "contour"
           }
          ],
          "contourcarpet": [
           {
            "colorbar": {
             "outlinewidth": 0,
             "ticks": ""
            },
            "type": "contourcarpet"
           }
          ],
          "heatmap": [
           {
            "colorbar": {
             "outlinewidth": 0,
             "ticks": ""
            },
            "colorscale": [
             [
              0,
              "#0d0887"
             ],
             [
              0.1111111111111111,
              "#46039f"
             ],
             [
              0.2222222222222222,
              "#7201a8"
             ],
             [
              0.3333333333333333,
              "#9c179e"
             ],
             [
              0.4444444444444444,
              "#bd3786"
             ],
             [
              0.5555555555555556,
              "#d8576b"
             ],
             [
              0.6666666666666666,
              "#ed7953"
             ],
             [
              0.7777777777777778,
              "#fb9f3a"
             ],
             [
              0.8888888888888888,
              "#fdca26"
             ],
             [
              1,
              "#f0f921"
             ]
            ],
            "type": "heatmap"
           }
          ],
          "heatmapgl": [
           {
            "colorbar": {
             "outlinewidth": 0,
             "ticks": ""
            },
            "colorscale": [
             [
              0,
              "#0d0887"
             ],
             [
              0.1111111111111111,
              "#46039f"
             ],
             [
              0.2222222222222222,
              "#7201a8"
             ],
             [
              0.3333333333333333,
              "#9c179e"
             ],
             [
              0.4444444444444444,
              "#bd3786"
             ],
             [
              0.5555555555555556,
              "#d8576b"
             ],
             [
              0.6666666666666666,
              "#ed7953"
             ],
             [
              0.7777777777777778,
              "#fb9f3a"
             ],
             [
              0.8888888888888888,
              "#fdca26"
             ],
             [
              1,
              "#f0f921"
             ]
            ],
            "type": "heatmapgl"
           }
          ],
          "histogram": [
           {
            "marker": {
             "pattern": {
              "fillmode": "overlay",
              "size": 10,
              "solidity": 0.2
             }
            },
            "type": "histogram"
           }
          ],
          "histogram2d": [
           {
            "colorbar": {
             "outlinewidth": 0,
             "ticks": ""
            },
            "colorscale": [
             [
              0,
              "#0d0887"
             ],
             [
              0.1111111111111111,
              "#46039f"
             ],
             [
              0.2222222222222222,
              "#7201a8"
             ],
             [
              0.3333333333333333,
              "#9c179e"
             ],
             [
              0.4444444444444444,
              "#bd3786"
             ],
             [
              0.5555555555555556,
              "#d8576b"
             ],
             [
              0.6666666666666666,
              "#ed7953"
             ],
             [
              0.7777777777777778,
              "#fb9f3a"
             ],
             [
              0.8888888888888888,
              "#fdca26"
             ],
             [
              1,
              "#f0f921"
             ]
            ],
            "type": "histogram2d"
           }
          ],
          "histogram2dcontour": [
           {
            "colorbar": {
             "outlinewidth": 0,
             "ticks": ""
            },
            "colorscale": [
             [
              0,
              "#0d0887"
             ],
             [
              0.1111111111111111,
              "#46039f"
             ],
             [
              0.2222222222222222,
              "#7201a8"
             ],
             [
              0.3333333333333333,
              "#9c179e"
             ],
             [
              0.4444444444444444,
              "#bd3786"
             ],
             [
              0.5555555555555556,
              "#d8576b"
             ],
             [
              0.6666666666666666,
              "#ed7953"
             ],
             [
              0.7777777777777778,
              "#fb9f3a"
             ],
             [
              0.8888888888888888,
              "#fdca26"
             ],
             [
              1,
              "#f0f921"
             ]
            ],
            "type": "histogram2dcontour"
           }
          ],
          "mesh3d": [
           {
            "colorbar": {
             "outlinewidth": 0,
             "ticks": ""
            },
            "type": "mesh3d"
           }
          ],
          "parcoords": [
           {
            "line": {
             "colorbar": {
              "outlinewidth": 0,
              "ticks": ""
             }
            },
            "type": "parcoords"
           }
          ],
          "pie": [
           {
            "automargin": true,
            "type": "pie"
           }
          ],
          "scatter": [
           {
            "fillpattern": {
             "fillmode": "overlay",
             "size": 10,
             "solidity": 0.2
            },
            "type": "scatter"
           }
          ],
          "scatter3d": [
           {
            "line": {
             "colorbar": {
              "outlinewidth": 0,
              "ticks": ""
             }
            },
            "marker": {
             "colorbar": {
              "outlinewidth": 0,
              "ticks": ""
             }
            },
            "type": "scatter3d"
           }
          ],
          "scattercarpet": [
           {
            "marker": {
             "colorbar": {
              "outlinewidth": 0,
              "ticks": ""
             }
            },
            "type": "scattercarpet"
           }
          ],
          "scattergeo": [
           {
            "marker": {
             "colorbar": {
              "outlinewidth": 0,
              "ticks": ""
             }
            },
            "type": "scattergeo"
           }
          ],
          "scattergl": [
           {
            "marker": {
             "colorbar": {
              "outlinewidth": 0,
              "ticks": ""
             }
            },
            "type": "scattergl"
           }
          ],
          "scattermapbox": [
           {
            "marker": {
             "colorbar": {
              "outlinewidth": 0,
              "ticks": ""
             }
            },
            "type": "scattermapbox"
           }
          ],
          "scatterpolar": [
           {
            "marker": {
             "colorbar": {
              "outlinewidth": 0,
              "ticks": ""
             }
            },
            "type": "scatterpolar"
           }
          ],
          "scatterpolargl": [
           {
            "marker": {
             "colorbar": {
              "outlinewidth": 0,
              "ticks": ""
             }
            },
            "type": "scatterpolargl"
           }
          ],
          "scatterternary": [
           {
            "marker": {
             "colorbar": {
              "outlinewidth": 0,
              "ticks": ""
             }
            },
            "type": "scatterternary"
           }
          ],
          "surface": [
           {
            "colorbar": {
             "outlinewidth": 0,
             "ticks": ""
            },
            "colorscale": [
             [
              0,
              "#0d0887"
             ],
             [
              0.1111111111111111,
              "#46039f"
             ],
             [
              0.2222222222222222,
              "#7201a8"
             ],
             [
              0.3333333333333333,
              "#9c179e"
             ],
             [
              0.4444444444444444,
              "#bd3786"
             ],
             [
              0.5555555555555556,
              "#d8576b"
             ],
             [
              0.6666666666666666,
              "#ed7953"
             ],
             [
              0.7777777777777778,
              "#fb9f3a"
             ],
             [
              0.8888888888888888,
              "#fdca26"
             ],
             [
              1,
              "#f0f921"
             ]
            ],
            "type": "surface"
           }
          ],
          "table": [
           {
            "cells": {
             "fill": {
              "color": "#EBF0F8"
             },
             "line": {
              "color": "white"
             }
            },
            "header": {
             "fill": {
              "color": "#C8D4E3"
             },
             "line": {
              "color": "white"
             }
            },
            "type": "table"
           }
          ]
         },
         "layout": {
          "annotationdefaults": {
           "arrowcolor": "#2a3f5f",
           "arrowhead": 0,
           "arrowwidth": 1
          },
          "autotypenumbers": "strict",
          "coloraxis": {
           "colorbar": {
            "outlinewidth": 0,
            "ticks": ""
           }
          },
          "colorscale": {
           "diverging": [
            [
             0,
             "#8e0152"
            ],
            [
             0.1,
             "#c51b7d"
            ],
            [
             0.2,
             "#de77ae"
            ],
            [
             0.3,
             "#f1b6da"
            ],
            [
             0.4,
             "#fde0ef"
            ],
            [
             0.5,
             "#f7f7f7"
            ],
            [
             0.6,
             "#e6f5d0"
            ],
            [
             0.7,
             "#b8e186"
            ],
            [
             0.8,
             "#7fbc41"
            ],
            [
             0.9,
             "#4d9221"
            ],
            [
             1,
             "#276419"
            ]
           ],
           "sequential": [
            [
             0,
             "#0d0887"
            ],
            [
             0.1111111111111111,
             "#46039f"
            ],
            [
             0.2222222222222222,
             "#7201a8"
            ],
            [
             0.3333333333333333,
             "#9c179e"
            ],
            [
             0.4444444444444444,
             "#bd3786"
            ],
            [
             0.5555555555555556,
             "#d8576b"
            ],
            [
             0.6666666666666666,
             "#ed7953"
            ],
            [
             0.7777777777777778,
             "#fb9f3a"
            ],
            [
             0.8888888888888888,
             "#fdca26"
            ],
            [
             1,
             "#f0f921"
            ]
           ],
           "sequentialminus": [
            [
             0,
             "#0d0887"
            ],
            [
             0.1111111111111111,
             "#46039f"
            ],
            [
             0.2222222222222222,
             "#7201a8"
            ],
            [
             0.3333333333333333,
             "#9c179e"
            ],
            [
             0.4444444444444444,
             "#bd3786"
            ],
            [
             0.5555555555555556,
             "#d8576b"
            ],
            [
             0.6666666666666666,
             "#ed7953"
            ],
            [
             0.7777777777777778,
             "#fb9f3a"
            ],
            [
             0.8888888888888888,
             "#fdca26"
            ],
            [
             1,
             "#f0f921"
            ]
           ]
          },
          "colorway": [
           "#636efa",
           "#EF553B",
           "#00cc96",
           "#ab63fa",
           "#FFA15A",
           "#19d3f3",
           "#FF6692",
           "#B6E880",
           "#FF97FF",
           "#FECB52"
          ],
          "font": {
           "color": "#2a3f5f"
          },
          "geo": {
           "bgcolor": "white",
           "lakecolor": "white",
           "landcolor": "#E5ECF6",
           "showlakes": true,
           "showland": true,
           "subunitcolor": "white"
          },
          "hoverlabel": {
           "align": "left"
          },
          "hovermode": "closest",
          "mapbox": {
           "style": "light"
          },
          "paper_bgcolor": "white",
          "plot_bgcolor": "#E5ECF6",
          "polar": {
           "angularaxis": {
            "gridcolor": "white",
            "linecolor": "white",
            "ticks": ""
           },
           "bgcolor": "#E5ECF6",
           "radialaxis": {
            "gridcolor": "white",
            "linecolor": "white",
            "ticks": ""
           }
          },
          "scene": {
           "xaxis": {
            "backgroundcolor": "#E5ECF6",
            "gridcolor": "white",
            "gridwidth": 2,
            "linecolor": "white",
            "showbackground": true,
            "ticks": "",
            "zerolinecolor": "white"
           },
           "yaxis": {
            "backgroundcolor": "#E5ECF6",
            "gridcolor": "white",
            "gridwidth": 2,
            "linecolor": "white",
            "showbackground": true,
            "ticks": "",
            "zerolinecolor": "white"
           },
           "zaxis": {
            "backgroundcolor": "#E5ECF6",
            "gridcolor": "white",
            "gridwidth": 2,
            "linecolor": "white",
            "showbackground": true,
            "ticks": "",
            "zerolinecolor": "white"
           }
          },
          "shapedefaults": {
           "line": {
            "color": "#2a3f5f"
           }
          },
          "ternary": {
           "aaxis": {
            "gridcolor": "white",
            "linecolor": "white",
            "ticks": ""
           },
           "baxis": {
            "gridcolor": "white",
            "linecolor": "white",
            "ticks": ""
           },
           "bgcolor": "#E5ECF6",
           "caxis": {
            "gridcolor": "white",
            "linecolor": "white",
            "ticks": ""
           }
          },
          "title": {
           "x": 0.05
          },
          "xaxis": {
           "automargin": true,
           "gridcolor": "white",
           "linecolor": "white",
           "ticks": "",
           "title": {
            "standoff": 15
           },
           "zerolinecolor": "white",
           "zerolinewidth": 2
          },
          "yaxis": {
           "automargin": true,
           "gridcolor": "white",
           "linecolor": "white",
           "ticks": "",
           "title": {
            "standoff": 15
           },
           "zerolinecolor": "white",
           "zerolinewidth": 2
          }
         }
        },
        "title": {
         "text": "Tag Counts Over Time"
        },
        "xaxis": {
         "anchor": "y",
         "domain": [
          0,
          1
         ],
         "title": {
          "text": "PartitionDate"
         }
        },
        "yaxis": {
         "anchor": "x",
         "domain": [
          0,
          1
         ],
         "title": {
          "text": "Count"
         }
        }
       }
      }
     },
     "metadata": {},
     "output_type": "display_data"
    }
   ],
   "source": [
    "import plotly.express as px\n",
    "fig = px.line(\n",
    "    pd_df,\n",
    "    x=\"PartitionDate\",\n",
    "    y=\"Count\",\n",
    "    color=\"Tag\",\n",
    "    title=\"Tag Counts Over Time\",\n",
    "    markers=True,\n",
    ")\n",
    "\n",
    "fig.show()"
   ]
  },
  {
   "cell_type": "markdown",
   "metadata": {},
   "source": [
    "# Accepted answers analysis"
   ]
  },
  {
   "cell_type": "code",
   "execution_count": 8,
   "metadata": {},
   "outputs": [],
   "source": [
    "renamed_answers = answers.select(\n",
    "    f.col(columns.id).alias(columns.answer_id),\n",
    "    columns.parent_id,\n",
    "    f.col(columns.owner_user_id).alias(columns.answer_owner_user_id),\n",
    "    f.col(columns.score).alias(columns.answer_score),\n",
    "    f.col(columns.wordsCount).alias(columns.answer_words_count),\n",
    "    f.col(columns.creation_date).alias(columns.answer_creation_date)\n",
    ")"
   ]
  },
  {
   "cell_type": "code",
   "execution_count": 9,
   "metadata": {},
   "outputs": [],
   "source": [
    "answers_count = \"AnswersCount\""
   ]
  },
  {
   "cell_type": "code",
   "execution_count": 10,
   "metadata": {},
   "outputs": [],
   "source": [
    "questionIdWindow = Window.partitionBy(columns.id)\n",
    "\n",
    "questions_with_answers_info = questions.join(\n",
    "    renamed_answers, \n",
    "    questions[columns.accepted_answer_id] == renamed_answers[columns.answer_id],\n",
    "    \"left\"\n",
    ").withColumn(\n",
    "    columns.self_answered,\n",
    "    f.col(columns.owner_user_id) == f.col(columns.answer_owner_user_id)\n",
    ").select(\n",
    "    columns.id, columns.score, columns.view_count,\n",
    "    columns.tags, columns.wordsCount,\n",
    "    columns.creation_date,\n",
    "    f.col(columns.answer_score).alias(\"AcceptedAnswerScore\"),\n",
    "    f.col(columns.answer_words_count).alias(\"AcceptedAnswerWordsCount\"),\n",
    "    columns.answer_creation_date,\n",
    "    columns.self_answered\n",
    ").withColumn(\n",
    "    \"AcceptedAnswerAppearenceTimeInHours\",\n",
    "    (f.col(columns.answer_creation_date).cast(\"long\") - f.col(columns.creation_date).cast(\"long\")) / 3600\n",
    ").drop(\n",
    "    columns.answer_creation_date\n",
    ").join(\n",
    "    renamed_answers, \n",
    "    questions[columns.id] == renamed_answers[columns.parent_id],\n",
    "    \"left\"\n",
    ").withColumn(\n",
    "        columns.count, f.lit(1)\n",
    ").withColumn(\n",
    "    answers_count,\n",
    "    f.sum(columns.count).over(questionIdWindow)\n",
    ").withColumn(\n",
    "    answers_count, \n",
    "    f.when(f.col(columns.answer_id).isNull(), 0).otherwise(f.col(answers_count))\n",
    ").withColumn(\n",
    "    \"AverageAnswerWordsCount\",\n",
    "    f.avg(columns.answer_words_count).over(questionIdWindow)\n",
    ").drop(\n",
    "    # columns.answer_id,\n",
    "    columns.answer_score,\n",
    "    columns.count,\n",
    "    columns.parent_id,\n",
    "    columns.answer_owner_user_id,\n",
    "    columns.answer_words_count,\n",
    "    columns.answer_creation_date\n",
    ").dropDuplicates(\n",
    "    [columns.id]\n",
    ")\n"
   ]
  },
  {
   "cell_type": "code",
   "execution_count": 11,
   "metadata": {},
   "outputs": [
    {
     "name": "stdout",
     "output_type": "stream",
     "text": [
      "+--------+-----+---------+--------------------+----------+-------------------+-------------------+------------------------+------------+-----------------------------------+--------+------------+-----------------------+\n",
      "|      Id|Score|ViewCount|                Tags|WordsCount|       CreationDate|AcceptedAnswerScore|AcceptedAnswerWordsCount|SelfAnswered|AcceptedAnswerAppearenceTimeInHours|AnswerId|AnswersCount|AverageAnswerWordsCount|\n",
      "+--------+-----+---------+--------------------+----------+-------------------+-------------------+------------------------+------------+-----------------------------------+--------+------------+-----------------------+\n",
      "|77740646|    1|      246|[pdf-generation, ...|       386|2024-01-01 02:01:14|                  1|                     369|       false|                  2.468611111111111|77740817|           1|                  369.0|\n",
      "|77740652|    0|      128|     [extract, 7zip]|        76|2024-01-01 02:04:07|                  0|                      82|        true|                  55.87833333333333|77750410|           1|                   82.0|\n",
      "|77740653|    0|       28|[ubuntu-20.04, no...|       148|2024-01-01 02:04:56|               NULL|                    NULL|        NULL|                               NULL|    NULL|           0|                   NULL|\n",
      "|77740661|    0|       29|[javascript, goog...|        90|2024-01-01 02:08:51|               NULL|                    NULL|        NULL|                               NULL|    NULL|           0|                   NULL|\n",
      "|77740666|    1|       62|           [android]|       215|2024-01-01 02:14:37|               NULL|                    NULL|        NULL|                               NULL|    NULL|           0|                   NULL|\n",
      "|77740674|    3|       67|[pandas, python-3...|       152|2024-01-01 02:22:02|                  0|                     242|       false|                  6.493055555555555|77741167|           1|                  242.0|\n",
      "|77740677|    1|      139|[compiler-errors,...|       115|2024-01-01 02:25:02|                  5|                     134|       false|                0.08944444444444444|77740685|           2|                  948.5|\n",
      "|77740679|    0|       77|[canvas, javascri...|        67|2024-01-01 02:28:08|               NULL|                    NULL|        NULL|                               NULL|    NULL|           0|                   NULL|\n",
      "|77740681|    0|       57|[skyfield, python...|        83|2024-01-01 02:28:31|               NULL|                    NULL|        NULL|                               NULL|    NULL|           0|                   NULL|\n",
      "|77740695|   -4|       74|    [pandas, python]|       108|2024-01-01 02:35:38|               NULL|                    NULL|        NULL|                               NULL|77740762|           2|                  147.5|\n",
      "|77740696|    0|       37|  [javascript, html]|        76|2024-01-01 02:36:51|                  1|                      53|       false|                 0.1897222222222222|77741592|           2|                   76.5|\n",
      "|77740698|    0|       87|[typescript, node...|       107|2024-01-01 02:38:58|               NULL|                    NULL|        NULL|                               NULL|    NULL|           0|                   NULL|\n",
      "|77740702|    0|       61|[string, char, rust]|        77|2024-01-01 02:45:21|                  1|                      14|       false|                0.11166666666666666|77740712|           1|                   14.0|\n",
      "|77740704|    3|      254|[flutter, dart, f...|       394|2024-01-01 02:46:47|               NULL|                    NULL|        NULL|                               NULL|    NULL|           0|                   NULL|\n",
      "|77740709|    1|      259|           [c, uefi]|       566|2024-01-01 02:50:37|                  1|                      89|       false|                 31.321944444444444|77744819|           1|                   89.0|\n",
      "|77740714|    6|      135|[controlsfx, java...|       656|2024-01-01 02:53:03|               NULL|                    NULL|        NULL|                               NULL|77740886|           2|                  226.0|\n",
      "|77740720|    6|     1825|[yfinance, python...|       240|2024-01-01 03:01:50|               NULL|                    NULL|        NULL|                               NULL|77756230|           1|                  198.0|\n",
      "|77740721|    0|      652|[x86, assembly, r...|       160|2024-01-01 03:02:31|               NULL|                    NULL|        NULL|                               NULL|    NULL|           0|                   NULL|\n",
      "|77740723|    0|       37|[javascript, html...|       293|2024-01-01 03:04:28|                  0|                      60|       false|                 0.1761111111111111|77740734|           1|                   60.0|\n",
      "|77740724|    0|       53|  [formkit, nuxt.js]|        68|2024-01-01 03:06:42|               NULL|                    NULL|        NULL|                               NULL|    NULL|           0|                   NULL|\n",
      "+--------+-----+---------+--------------------+----------+-------------------+-------------------+------------------------+------------+-----------------------------------+--------+------------+-----------------------+\n",
      "only showing top 20 rows\n",
      "\n"
     ]
    }
   ],
   "source": [
    "questions_with_answers_info.show()"
   ]
  },
  {
   "cell_type": "code",
   "execution_count": 86,
   "metadata": {},
   "outputs": [],
   "source": [
    "# import matplotlib.pyplot as plt\n",
    "\n",
    "# # Data\n",
    "# labels = ['0', '1', '2', '> 2']\n",
    "# sizes = [9130, 7356, 1535, 379]\n",
    "# colors = ['#8a7dc7', '#00689c', '#ffc800', '#ff6f00'][::-1]\n",
    "# # explode = (0.05, 0, 0, 0)  # Slightly explode Electronics\n",
    "\n",
    "# # Plot Pie Chart\n",
    "# plt.figure(figsize=(10, 10))\n",
    "# # autopct='%1.1f%%', \n",
    "# wedges, texts, autotexts = plt.pie(\n",
    "#     sizes, labels=None, colors=colors, autopct='%1.f%%', startangle=90, shadow=False,\n",
    "#     wedgeprops={'edgecolor': 'black'}\n",
    "# )\n",
    "# plt.legend(wedges, labels, title=\"number of answers\", loc=\"upper left\", fontsize=12)\n",
    "\n",
    "# for autotext in autotexts[:-1]:\n",
    "#     autotext.set_fontsize(22)\n",
    "#     autotext.set_fontname(\"sans-serif\")\n",
    "# autotexts[-1].set_fontsize(0)\n",
    "# autotexts[-1].set_fontname(\"sans-serif\")\n",
    "\n",
    "# for autotext in texts:\n",
    "#     autotext.set_fontsize(12)\n",
    "#     autotext.set_fontname(\"sans-serif\")\n",
    "\n",
    "# plt.title('Number of answers per question')\n",
    "# plt.show()"
   ]
  },
  {
   "cell_type": "code",
   "execution_count": 219,
   "metadata": {},
   "outputs": [],
   "source": [
    "# questions_with_answers_info.withColumn(\n",
    "#     columns.tag,\n",
    "#     f.explode(f.col(columns.tags))\n",
    "# ).drop(\n",
    "#     columns.tags\n",
    "# ).withColumn(\n",
    "#     \"AcceptedAnswerCount\",\n",
    "#     f.when(f.col(\"AcceptedAnswerScore\").isNull(), 0).otherwise(1)\n",
    "# ).withColumn(\n",
    "#     \"SelfAnswered\",\n",
    "#     f.when(f.col(\"SelfAnswered\").isNull(), False).otherwise(f.col(\"SelfAnswered\"))\n",
    "# ).show()"
   ]
  },
  {
   "cell_type": "code",
   "execution_count": 11,
   "metadata": {},
   "outputs": [],
   "source": [
    "renamed_comments = comments.select(\n",
    "    f.col(columns.id).alias(\"CommentId\"),\n",
    "    columns.post_id,\n",
    "    f.col(columns.wordsCount).alias(\"CommentWordsCount\"),\n",
    "    f.col(columns.sentiment).alias(\"CommentSentiment\")\n",
    ").withColumn(\n",
    "    \"Count\", f.lit(1)\n",
    ")"
   ]
  },
  {
   "cell_type": "code",
   "execution_count": 12,
   "metadata": {},
   "outputs": [],
   "source": [
    "questionIdWindow = Window.partitionBy(columns.id)\n",
    "\n",
    "questions_with_answers_and_comments_info = questions_with_answers_info.join(\n",
    "    renamed_comments,\n",
    "    questions_with_answers_info[columns.id] == renamed_comments[columns.post_id],\n",
    "    \"left\"\n",
    ").withColumn(\n",
    "    \"CommentsCount\",\n",
    "    f.sum(f.col(columns.count)).over(questionIdWindow)\n",
    ").withColumn(\n",
    "    \"CommentsCount\", \n",
    "    f.when(f.col(\"CommentsCount\").isNull(), 0).otherwise(f.col(\"CommentsCount\"))\n",
    ").withColumn(\n",
    "    \"PositiveCommentsCount\",\n",
    "    f.sum(f.col(\"CommentSentiment\")).over(questionIdWindow)\n",
    ").withColumn(\n",
    "    \"PositiveCommentsCount\", \n",
    "    f.when(f.col(\"PositiveCommentsCount\").isNull(), 0).otherwise(f.col(\"PositiveCommentsCount\"))\n",
    ").withColumn(\n",
    "    \"AvgCommentWordsCount\",\n",
    "    f.avg(f.col(\"CommentWordsCount\")).over(questionIdWindow)\n",
    ").drop(\n",
    "    \"CommentId\", columns.post_id, \"CommentWordsCount\", \"CommentSentiment\", \"Count\"\n",
    ").dropDuplicates(\n",
    "    [columns.id]\n",
    ")"
   ]
  },
  {
   "cell_type": "code",
   "execution_count": null,
   "metadata": {},
   "outputs": [],
   "source": [
    "# renamed_answers = answers.select(\n",
    "#     f.col(columns.id).alias(columns.answer_id),\n",
    "#     columns.parent_id,\n",
    "#     f.col(columns.owner_user_id).alias(columns.answer_owner_user_id),\n",
    "#     f.col(columns.score).alias(columns.answer_score),\n",
    "#     f.col(columns.wordsCount).alias(columns.answer_words_count),\n",
    "#     f.col(columns.creation_date).alias(columns.answer_creation_date)\n",
    "# )"
   ]
  },
  {
   "cell_type": "code",
   "execution_count": 14,
   "metadata": {},
   "outputs": [],
   "source": [
    "# questions_with_answers_and_comments_info.withColumn(\n",
    "#     columns.tag,\n",
    "#     f.explode(f.col(columns.tags))\n",
    "# ).drop(\n",
    "#     columns.tags\n",
    "# ).withColumn(\n",
    "#     \"Count\", f.lit(1)\n",
    "# ).withColumn(\n",
    "#     \"AcceptedAnswerCount\",\n",
    "#     f.when(f.col(\"AcceptedAnswerScore\").isNull(), 0).otherwise(1)\n",
    "# ).withColumn(\n",
    "#     \"SelfAnswered\",\n",
    "#     f.when(f.col(\"SelfAnswered\").isNull(), False).otherwise(f.col(\"SelfAnswered\"))\n",
    "# ).show()"
   ]
  },
  {
   "cell_type": "code",
   "execution_count": 19,
   "metadata": {},
   "outputs": [],
   "source": [
    "final_df = questions_with_answers_and_comments_info.withColumn(\n",
    "    columns.tag,\n",
    "    f.explode(f.col(columns.tags))\n",
    ").drop(\n",
    "    columns.tags\n",
    ").withColumn(\n",
    "    \"Count\", f.lit(1)\n",
    ").withColumn(\n",
    "    \"AcceptedAnswerCount\",\n",
    "    f.when(f.col(\"AcceptedAnswerScore\").isNull(), 0).otherwise(1)\n",
    ").withColumn(\n",
    "    \"SelfAnswered\",\n",
    "    f.when(f.col(\"SelfAnswered\").isNull(), False).otherwise(f.col(\"SelfAnswered\"))\n",
    ").groupBy(\n",
    "    columns.tag\n",
    ").agg(\n",
    "    f.sum(f.col(\"Count\")).alias(\"QuestionsCount\"),\n",
    "    f.sum(f.col(\"AnswersCount\")).alias(\"SumAnswersCount\"),\n",
    "    f.sum(f.col(\"AcceptedAnswerCount\")).alias(\"SumAcceptedAnswerCount\"),\n",
    "    f.sum(f.col(\"SelfAnswered\").cast(\"int\")).alias(\"SumSelfAnswered\"),\n",
    "    f.avg(f.col(\"AnswersCount\")).alias(\"AnswersPerQuestions\"),\n",
    "    f.avg(f.col(\"AcceptedAnswerCount\")).alias(\"AcceptedAnswersPerQuestions\"),\n",
    "    f.avg(f.col(\"SelfAnswered\").cast(\"int\")).alias(\"SelfAnsweredPerQuestions\"),\n",
    "    f.avg(f.col(\"AcceptedAnswerAppearenceTimeInHours\")).alias(\"AvgAcceptedAnswerAppearenceTimeInHours\"),\n",
    "    # f.avg(f.col(columns.score)).alias(\"AvgQuestionScore\"),\n",
    "    f.avg(f.col(columns.view_count)).alias(\"AvgQuestionViewCount\"),\n",
    "    f.avg(f.col(columns.wordsCount)).alias(\"AvgQuestionWordsCount\"),\n",
    "    # f.avg(f.col(\"AcceptedAnswerScore\")).alias(\"AvgAcceptedAnswerScore\"),\n",
    "    f.avg(f.col(\"AverageAnswerWordsCount\")).alias(\"AvgAnswerWordsCount\"),\n",
    "    f.avg(f.col(\"AcceptedAnswerWordsCount\")).alias(\"AvgAcceptedAnswerWordsCount\"),\n",
    "    f.avg(f.col(\"CommentsCount\")).alias(\"CommentsCountPerQuestion\"),\n",
    "    f.avg(f.col(\"PositiveCommentsCount\")).alias(\"PositiveCommentsPerQuestion\"),\n",
    "    f.avg(f.col(\"AvgCommentWordsCount\")).alias(\"AvgCommentWordsCount_\"),\n",
    "    f.sum(f.col(\"CommentsCount\")).alias(\"SumCommentsCount\"),\n",
    "    f.sum(f.col(\"PositiveCommentsCount\")).alias(\"SumPositiveComments\"),\n",
    ").withColumn(\n",
    "    \"PortionsOfPositiveComments\",\n",
    "    f.when(f.col(\"SumCommentsCount\") != 0, f.col(\"SumPositiveComments\") / f.col(\"SumCommentsCount\")).otherwise(0)\n",
    ").withColumn(\n",
    "    \"PortionsOfAnswered\",\n",
    "    f.when(f.col(\"QuestionsCount\") != 0, f.col(\"SumAcceptedAnswerCount\") / f.col(\"QuestionsCount\")).otherwise(0)\n",
    ").withColumn(\n",
    "    \"SumSelfAnswered\",\n",
    "    f.when(f.col(\"SumSelfAnswered\").isNull(), 0).otherwise(f.col(\"SumSelfAnswered\"))\n",
    ").withColumn(\n",
    "    \"AvgAnswerWordsCount\",\n",
    "    f.when(f.col(\"AvgAnswerWordsCount\").isNull(), 0).otherwise(f.col(\"AvgAnswerWordsCount\"))\n",
    ").withColumn(\n",
    "    \"AvgAcceptedAnswerAppearenceTimeInHours\",\n",
    "    f.when(f.col(\"AvgAcceptedAnswerAppearenceTimeInHours\").isNull(), float(\"inf\")).otherwise(f.col(\"AvgAcceptedAnswerAppearenceTimeInHours\"))\n",
    ").sort(\n",
    "    f.desc(\"QuestionsCount\")\n",
    ")"
   ]
  },
  {
   "cell_type": "code",
   "execution_count": 20,
   "metadata": {},
   "outputs": [
    {
     "name": "stdout",
     "output_type": "stream",
     "text": [
      "+-----------+--------------+---------------+----------------------+---------------+-------------------+---------------------------+------------------------+--------------------------------------+--------------------+---------------------+-------------------+---------------------------+------------------------+---------------------------+---------------------+----------------+-------------------+--------------------------+-------------------+\n",
      "|        Tag|QuestionsCount|SumAnswersCount|SumAcceptedAnswerCount|SumSelfAnswered|AnswersPerQuestions|AcceptedAnswersPerQuestions|SelfAnsweredPerQuestions|AvgAcceptedAnswerAppearenceTimeInHours|AvgQuestionViewCount|AvgQuestionWordsCount|AvgAnswerWordsCount|AvgAcceptedAnswerWordsCount|CommentsCountPerQuestion|PositiveCommentsPerQuestion|AvgCommentWordsCount_|SumCommentsCount|SumPositiveComments|PortionsOfPositiveComments| PortionsOfAnswered|\n",
      "+-----------+--------------+---------------+----------------------+---------------+-------------------+---------------------------+------------------------+--------------------------------------+--------------------+---------------------+-------------------+---------------------------+------------------------+---------------------------+---------------------+----------------+-------------------+--------------------------+-------------------+\n",
      "|     python|          2176|           1622|                   591|             71| 0.7454044117647058|        0.27159926470588236|     0.03262867647058824|                      9.09337140439933|  221.92738970588235|          212.6484375| 113.68289902280131|         127.46869712351946|      1.8170955882352942|        0.19071691176470587|    26.15861467595739|            3954|                415|       0.10495700556398584|0.27159926470588236|\n",
      "| javascript|          1518|           1083|                   388|             34| 0.7134387351778656|        0.25559947299077734|    0.022397891963109356|                     9.378348367697589|   218.4993412384717|     231.967720685112| 147.14186893203885|         172.48453608247422|       1.886034255599473|        0.23517786561264822|    27.18578805682158|            2863|                357|       0.12469437652811736|0.25559947299077734|\n",
      "|    reactjs|          1000|            615|                   227|             28|              0.615|                      0.227|                   0.028|                    12.560991189427314|             381.663|              232.803| 123.84045242847638|         141.16299559471366|                   1.266|                      0.145|   26.327067453094855|            1266|                145|       0.11453396524486571|              0.227|\n",
      "|       java|           864|            548|                   193|             33| 0.6342592592592593|        0.22337962962962962|     0.03819444444444445|                    11.823177892918832|   282.7986111111111|   230.74074074074073|  132.3832943925234|         151.76683937823833|       1.943287037037037|        0.16550925925925927|   28.276331155863865|            1679|                143|        0.0851697438951757|0.22337962962962962|\n",
      "|         c#|           816|            558|                   254|             47| 0.6838235294117647|         0.3112745098039216|     0.05759803921568627|                    11.691605424321951|  257.38357843137254|    213.0392156862745| 137.69822616407984|          136.3188976377953|       2.346813725490196|        0.24142156862745098|   29.591660754312393|            1915|                197|       0.10287206266318538| 0.3112745098039216|\n",
      "|    android|           738|            335|                   120|             32|  0.453929539295393|        0.16260162601626016|     0.04336043360433604|                    13.808879629629635|   291.9471544715447|   218.29945799457994| 102.72044917257683|                      93.25|      1.1897018970189701|        0.10975609756097561|     23.9502873845731|             878|                 81|       0.09225512528473805|0.16260162601626016|\n",
      "|       html|           603|            510|                   174|             18|  0.845771144278607|         0.2885572139303483|    0.029850746268656716|                     7.798322158365259|  166.13266998341626|    256.1442786069652| 154.41091954022988|         185.54022988505747|      1.7048092868988391|        0.22056384742951907|    24.95548265438972|            1028|                133|        0.1293774319066148| 0.2885572139303483|\n",
      "|    flutter|           582|            341|                   114|             19| 0.5859106529209622|         0.1958762886597938|     0.03264604810996564|                     9.216778752436651|  230.69243986254295|   209.03608247422682|  94.68291215403129|         114.37719298245614|      0.9484536082474226|        0.11683848797250859|   21.979337203200828|             552|                 68|       0.12318840579710146| 0.1958762886597938|\n",
      "| typescript|           504|            336|                   129|             15| 0.6666666666666666|        0.25595238095238093|     0.02976190476190476|                    11.502631352282517|   346.9007936507937|    217.7876984126984| 131.08674101610902|         148.74418604651163|       1.628968253968254|        0.23015873015873015|    28.33280385848478|             821|                116|       0.14129110840438489|0.25595238095238093|\n",
      "|          r|           496|            501|                   212|              5| 1.0100806451612903|         0.4274193548387097|    0.010080645161290322|                    5.6401795073375265|  120.34677419354838|   226.11895161290323| 163.18802742616032|         162.50943396226415|      1.6431451612903225|        0.23790322580645162|   30.435145443293912|             815|                118|       0.14478527607361963| 0.4274193548387097|\n",
      "|        c++|           493|            394|                   180|             25| 0.7991886409736308|        0.36511156186612576|     0.05070993914807302|                      8.67968209876543|  181.27586206896552|    233.5943204868154|  172.0476956055734|          170.4611111111111|       4.385395537525355|        0.42190669371196754|    29.72144035238883|            2162|                208|       0.09620721554116558|0.36511156186612576|\n",
      "|    node.js|           484|            224|                    87|             15| 0.4628099173553719|         0.1797520661157025|    0.030991735537190084|                    14.820229885057481|  365.00619834710744|   216.90702479338842| 108.49583333333335|         117.75862068965517|      1.4834710743801653|        0.15289256198347106|    29.10283174759592|             718|                 74|       0.10306406685236769| 0.1797520661157025|\n",
      "|        css|           468|            414|                   158|             14| 0.8846153846153846|        0.33760683760683763|    0.029914529914529916|                     9.243572433192686|  190.76495726495727|   251.80769230769232|  163.6898296059638|           183.626582278481|      1.4188034188034189|        0.17307692307692307|    24.37106644939344|             664|                 81|       0.12198795180722892|0.33760683760683763|\n",
      "|        php|           423|            247|                    89|             22| 0.5839243498817966|        0.21040189125295508|     0.05200945626477541|                    11.803442571785265|  310.16784869976357|    217.9598108747045| 120.95652173913042|         124.04494382022472|      2.3947990543735225|         0.2198581560283688|   28.782507048351007|            1013|                 93|       0.09180651530108588|0.21040189125295508|\n",
      "|    angular|           411|            291|                   106|             16|  0.708029197080292|        0.25790754257907544|    0.038929440389294405|                     9.664963312368972|   455.8759124087591|    177.7469586374696|  97.46402349486051|          95.30188679245283|      1.4549878345498783|        0.17274939172749393|    23.20916129077894|             598|                 71|       0.11872909698996656|0.25790754257907544|\n",
      "|spring-boot|           352|            188|                    70|             12| 0.5340909090909091|        0.19886363636363635|     0.03409090909090909|                     10.51379761904762|  435.95454545454544|   223.69602272727272|         114.065625|         141.47142857142856|      1.3409090909090908|        0.13352272727272727|   28.259193121693116|             472|                 47|       0.09957627118644068|0.19886363636363635|\n",
      "|    next.js|           351|            183|                    59|             16| 0.5213675213675214|        0.16809116809116809|    0.045584045584045586|                    14.046454802259886|   753.2222222222222|    223.4045584045584| 107.22222222222224|         122.10169491525424|      0.6723646723646723|        0.07407407407407407|    25.08620421245421|             236|                 26|       0.11016949152542373|0.16809116809116809|\n",
      "|        sql|           331|            392|                   110|              5| 1.1842900302114803|         0.3323262839879154|    0.015105740181268883|                     5.348353535353535|  143.16012084592145|    163.6012084592145| 125.08346253229973|         137.75454545454545|      2.7401812688821754|        0.26586102719033233|    26.41240557246521|             907|                 88|        0.0970231532524807| 0.3323262839879154|\n",
      "|     docker|           313|            147|                    61|             19| 0.4696485623003195|        0.19488817891373802|     0.06070287539936102|                    10.678633879781424|  324.68370607028754|   242.35782747603835| 111.93129770992367|         133.14754098360655|      1.5686900958466454|        0.15654952076677317|    31.00239081139702|             491|                 49|       0.09979633401221996|0.19488817891373802|\n",
      "|     django|           290|            182|                    61|              8| 0.6275862068965518|         0.2103448275862069|    0.027586206896551724|                     6.032513661202185|  169.01379310344828|    214.4241379310345|  90.61073825503357|         109.42622950819673|       1.193103448275862|         0.1206896551724138|    26.19028465539257|             346|                 35|       0.10115606936416185| 0.2103448275862069|\n",
      "+-----------+--------------+---------------+----------------------+---------------+-------------------+---------------------------+------------------------+--------------------------------------+--------------------+---------------------+-------------------+---------------------------+------------------------+---------------------------+---------------------+----------------+-------------------+--------------------------+-------------------+\n",
      "only showing top 20 rows\n",
      "\n"
     ]
    }
   ],
   "source": [
    "final_df.show()"
   ]
  },
  {
   "cell_type": "code",
   "execution_count": 21,
   "metadata": {},
   "outputs": [],
   "source": [
    "csv_data_manager.write(final_df, \"/final_df\")"
   ]
  },
  {
   "cell_type": "code",
   "execution_count": 22,
   "metadata": {},
   "outputs": [
    {
     "data": {
      "text/plain": [
       "9515"
      ]
     },
     "execution_count": 22,
     "metadata": {},
     "output_type": "execute_result"
    }
   ],
   "source": [
    "final_df.count()"
   ]
  },
  {
   "cell_type": "code",
   "execution_count": null,
   "metadata": {},
   "outputs": [],
   "source": [
    "1 / 0"
   ]
  },
  {
   "cell_type": "code",
   "execution_count": 16,
   "metadata": {},
   "outputs": [],
   "source": [
    "# # tagWindow = Window.partitionBy(columns.tag)\n",
    "# questions_with_answers_info.withColumn(\n",
    "#     columns.tag,\n",
    "#     f.explode(f.col(columns.tags))\n",
    "# ).drop(\n",
    "#     columns.tags\n",
    "# ).withColumn(\n",
    "#     \"Count\", f.lit(1)\n",
    "# ).withColumn(\n",
    "#     \"AcceptedAnswerCount\",\n",
    "#     f.when(f.col(\"AcceptedAnswerScore\").isNull(), 0).otherwise(1)\n",
    "# ).withColumn(\n",
    "#     \"SelfAnswered\",\n",
    "#     f.when(f.col(\"SelfAnswered\").isNull(), False).otherwise(f.col(\"SelfAnswered\"))\n",
    "# ).groupBy(\n",
    "#     columns.tag\n",
    "# ).agg(\n",
    "#     f.sum(f.col(\"Count\")).alias(\"QuestionsCount\"),\n",
    "#     f.sum(f.col(\"AnswersCount\")).alias(\"SumAnswersCount\"),\n",
    "#     f.sum(f.col(\"AcceptedAnswerCount\")).alias(\"SumAcceptedAnswerCount\"),\n",
    "#     f.sum(f.col(\"SelfAnswered\").cast(\"int\")).alias(\"SumSelfAnswered\"),\n",
    "#     f.avg(f.col(\"AnswersCount\")).alias(\"AnswersPerQuestions\"),\n",
    "#     f.avg(f.col(\"AcceptedAnswerCount\")).alias(\"AcceptedAnswersPerQuestions\"),\n",
    "#     f.avg(f.col(\"SelfAnswered\").cast(\"int\")).alias(\"SelfAnsweredPerQuestions\"),\n",
    "#     f.avg(f.col(\"AcceptedAnswerAppearenceTimeInHours\")).alias(\"AvgAcceptedAnswerAppearenceTimeInHours\"),\n",
    "#     # f.avg(f.col(columns.score)).alias(\"AvgQuestionScore\"),\n",
    "#     f.avg(f.col(columns.view_count)).alias(\"AvgQuestionViewCount\"),\n",
    "#     f.avg(f.col(columns.wordsCount)).alias(\"AvgQuestionWordsCount\"),\n",
    "#     # f.avg(f.col(\"AcceptedAnswerScore\")).alias(\"AvgAcceptedAnswerScore\"),\n",
    "#     f.avg(f.col(\"AverageAnswerWordsCount\")).alias(\"AvgAnswerWordsCount\"),\n",
    "#     f.avg(f.col(\"AcceptedAnswerWordsCount\")).alias(\"AvgAcceptedAnswerWordsCount\"),\n",
    "# ).withColumn(\n",
    "#     \"SumSelfAnswered\",\n",
    "#     f.when(f.col(\"SumSelfAnswered\").isNull(), 0).otherwise(f.col(\"SumSelfAnswered\"))\n",
    "# ).withColumn(\n",
    "#     \"AvgAnswerWordsCount\",\n",
    "#     f.when(f.col(\"AvgAnswerWordsCount\").isNull(), 0).otherwise(f.col(\"AvgAnswerWordsCount\"))\n",
    "# ).withColumn(\n",
    "#     \"AvgAcceptedAnswerAppearenceTimeInHours\",\n",
    "#     f.when(f.col(\"AvgAcceptedAnswerAppearenceTimeInHours\").isNull(), float(\"inf\")).otherwise(f.col(\"AvgAcceptedAnswerAppearenceTimeInHours\"))\n",
    "# ).sort(\n",
    "#     f.desc(\"QuestionsCount\")\n",
    "# ).show(30)"
   ]
  },
  {
   "cell_type": "code",
   "execution_count": 218,
   "metadata": {},
   "outputs": [],
   "source": [
    "# questions_with_answers_info.withColumn(\n",
    "#     columns.tag,\n",
    "#     f.explode(f.col(columns.tags))\n",
    "# ).drop(\n",
    "#     columns.tags\n",
    "# ).groupBy(\n",
    "#     columns.tag\n",
    "# ).agg(\n",
    "#     f.avg(f.col(columns.score)).alias(\"AverageQuestionScore\"),\n",
    "#     f.avg(f.col(columns.view_count)).alias(\"AverageQuestionViewCount\"),\n",
    "#     # f.avg(f.col(\"AcceptedAnswerScore\")).alias(\"AverageAcceptedAnswerScore\"),\n",
    "#     f.avg(f.col(\"AcceptedAnswerWordsCount\")).alias(\"AverageAcceptedAnswerWordsCount\"),\n",
    "# ).show()"
   ]
  }
 ],
 "metadata": {
  "kernelspec": {
   "display_name": "venv",
   "language": "python",
   "name": "python3"
  },
  "language_info": {
   "codemirror_mode": {
    "name": "ipython",
    "version": 3
   },
   "file_extension": ".py",
   "mimetype": "text/x-python",
   "name": "python",
   "nbconvert_exporter": "python",
   "pygments_lexer": "ipython3",
   "version": "3.10.4"
  }
 },
 "nbformat": 4,
 "nbformat_minor": 2
}
