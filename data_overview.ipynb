{
 "cells": [
  {
   "cell_type": "code",
   "execution_count": 1,
   "metadata": {},
   "outputs": [],
   "source": [
    "from pyspark import SparkConf\n",
    "from pyspark.sql import functions as f\n",
    "from pyspark.sql import SparkSession\n",
    "from pyspark.sql.types import StringType, IntegerType, StructType, StructField, TimestampType\n",
    "\n",
    "from core.csv_data_manager import CSVDataManager\n",
    "\n",
    "from metadata.columns import StackExchangeColumns as columns\n",
    "from metadata.schemas import posts_schema, comments_schema, tag_synonyms_schema, tags_schema"
   ]
  },
  {
   "cell_type": "code",
   "execution_count": 2,
   "metadata": {},
   "outputs": [],
   "source": [
    "DATA_DIRECTORY_PATH = \"D:/PyCharmStorage/BD_2024/data\""
   ]
  },
  {
   "cell_type": "code",
   "execution_count": 3,
   "metadata": {},
   "outputs": [],
   "source": [
    "spark_session = (SparkSession.builder\n",
    "                 .master(\"local\")\n",
    "                 .appName(\"BD_2024\")\n",
    "                 .config(conf=SparkConf())\n",
    "                 .getOrCreate())\n",
    "\n",
    "csv_data_manager = CSVDataManager(spark_session, DATA_DIRECTORY_PATH)"
   ]
  },
  {
   "cell_type": "code",
   "execution_count": 4,
   "metadata": {},
   "outputs": [],
   "source": [
    "posts_dataframe = csv_data_manager.read([\"/Posts_1.csv\"], schema=posts_schema)\n",
    "comments_dataframe = csv_data_manager.read([\"/Comments_1.csv\", \"/Comments_2.csv\"], schema=comments_schema)\n",
    "tag_synonyms_dataframe = csv_data_manager.read([\"/TagSynonyms.csv\"], schema=tag_synonyms_schema)\n",
    "tags_dataframe = csv_data_manager.read([\"/Tags_1.csv\", \"/Tags_2.csv\"], schema=tags_schema)"
   ]
  },
  {
   "cell_type": "code",
   "execution_count": 5,
   "metadata": {},
   "outputs": [
    {
     "data": {
      "text/plain": [
       "38912"
      ]
     },
     "execution_count": 5,
     "metadata": {},
     "output_type": "execute_result"
    }
   ],
   "source": [
    "posts_dataframe.count()"
   ]
  },
  {
   "cell_type": "code",
   "execution_count": 6,
   "metadata": {},
   "outputs": [
    {
     "name": "stdout",
     "output_type": "stream",
     "text": [
      "+--------+----------+----------------+--------+-------------------+------------+-----+---------+--------------------+-----------+----------------+----------------+---------------------+-------------------+-------------------+--------------------+--------------------+-----------+------------+-------------+-------------------+------------------+--------------+\n",
      "|      Id|PostTypeId|AcceptedAnswerId|ParentId|       CreationDate|DeletionDate|Score|ViewCount|                Body|OwnerUserId|OwnerDisplayName|LastEditorUserId|LastEditorDisplayName|       LastEditDate|   LastActivityDate|               Title|                Tags|AnswerCount|CommentCount|FavoriteCount|         ClosedDate|CommunityOwnedDate|ContentLicense|\n",
      "+--------+----------+----------------+--------+-------------------+------------+-----+---------+--------------------+-----------+----------------+----------------+---------------------+-------------------+-------------------+--------------------+--------------------+-----------+------------+-------------+-------------------+------------------+--------------+\n",
      "|77740643|         2|            null|77740633|2024-01-01 00:00:45|        null|    0|     null|<p>To enable scro...|   23179938|            null|        15119028|                 null|2024-01-04 10:12:49|2024-01-04 10:12:49|                null|                null|       null|           0|         null|               null|              null|  CC BY-SA 4.0|\n",
      "|77740644|         2|            null|77740476|2024-01-01 00:01:03|        null|    2|     null|<p>Firebase Hosti...|     209103|            null|            null|                 null|               null|2024-01-01 00:01:03|                null|                null|       null|           2|         null|               null|              null|  CC BY-SA 4.0|\n",
      "|77740646|         1|        77740817|    null|2024-01-01 00:01:14|        null|    1|      246|<p>Happy New Year...|   19410920|            null|        19410920|                 null|2024-01-01 00:50:27|2024-01-01 02:29:21|Make URL Address ...|<google-apps-scri...|          1|           0|         null|               null|              null|  CC BY-SA 4.0|\n",
      "|77740649|         2|            null|77740536|2024-01-01 00:03:09|        null|    0|     null|<p>This is pretty...|    3467488|            null|            null|                 null|               null|2024-01-01 00:03:09|                null|                null|       null|           0|         null|               null|              null|  CC BY-SA 4.0|\n",
      "|77740650|         2|            null|39589605|2024-01-01 00:03:30|        null|    0|     null|<p>You would run ...|   16273374|            null|        16273374|                 null|2024-01-01 00:08:48|2024-01-01 00:08:48|                null|                null|       null|           0|         null|               null|              null|  CC BY-SA 4.0|\n",
      "|77740651|         2|            null|77739972|2024-01-01 00:04:06|        null|   -1|     null|<p>Someone provid...|    7563454|            null|            null|                 null|               null|2024-01-01 00:04:06|                null|                null|       null|           0|         null|               null|              null|  CC BY-SA 4.0|\n",
      "|77740652|         1|        77750410|    null|2024-01-01 00:04:07|        null|    0|      128|<p>Using 7z.exe (...|    8717998|            null|         8717998|                 null|2024-01-01 00:24:10|2024-01-03 08:01:41|7zip commandline ...|     <extract><7zip>|          1|           0|         null|               null|              null|  CC BY-SA 4.0|\n",
      "|77740653|         1|            null|    null|2024-01-01 00:04:56|        null|    0|       28|<p>I am looking t...|   23179947|            null|            null|                 null|               null|2024-01-01 00:04:56|Endless Upgrade l...|<node.js><ubuntu-...|          0|           0|         null|               null|              null|  CC BY-SA 4.0|\n",
      "|77740654|         2|            null|77740449|2024-01-01 00:05:11|        null|    1|     null|<p>I believe the ...|   23174711|            null|        23174711|                 null|2024-01-01 00:25:34|2024-01-01 00:25:34|                null|                null|       null|           0|         null|               null|              null|  CC BY-SA 4.0|\n",
      "|77740658|         2|            null|77740619|2024-01-01 00:07:07|        null|    1|     null|<p>based on your ...|   19530957|            null|            null|                 null|               null|2024-01-01 00:07:07|                null|                null|       null|           1|         null|               null|              null|  CC BY-SA 4.0|\n",
      "|77740659|         2|            null|77740492|2024-01-01 00:07:28|        null|    2|     null|<p>I was able to ...|       null|      user815362|            null|                 null|               null|2024-01-01 00:07:28|                null|                null|       null|           1|         null|               null|              null|  CC BY-SA 4.0|\n",
      "|77740661|         1|            null|    null|2024-01-01 00:08:51|        null|    0|       29|<p>Im building a ...|   23179950|            null|            null|                 null|               null|2024-01-01 00:08:51|How do I delete a...|<javascript><arra...|          0|           9|         null|2024-01-01 01:21:12|              null|  CC BY-SA 4.0|\n",
      "|77740662|         2|            null|77740316|2024-01-01 00:08:57|        null|    0|     null|<p>Use <code>awai...|     209103|            null|         5246885|                 null|2024-01-01 11:55:06|2024-01-01 11:55:06|                null|                null|       null|           2|         null|               null|              null|  CC BY-SA 4.0|\n",
      "|77740664|         1|            null|    null|2024-01-01 00:13:08|        null|    0|       60|<p>I am working o...|       null|    user23179962|        23133316|                 null|2024-01-01 00:42:31|2024-01-01 00:42:31|Issues with JumpL...|     <c#><jump-list>|          0|           4|         null|               null|              null|  CC BY-SA 4.0|\n",
      "|77740665|         2|            null|77739850|2024-01-01 00:13:56|        null|    2|     null|<pre class=\"lang-...|     589924|            null|          589924|                 null|2024-01-04 14:44:57|2024-01-04 14:44:57|                null|                null|       null|          14|         null|               null|              null|  CC BY-SA 4.0|\n",
      "|77740666|         1|            null|    null|2024-01-01 00:14:37|        null|    1|       62|<p>I am developin...|     284906|            null|            null|                 null|               null|2024-01-01 00:14:37|Determine whether...|           <android>|          0|           0|         null|               null|              null|  CC BY-SA 4.0|\n",
      "|77740667|         2|            null|77740531|2024-01-01 00:14:52|        null|    0|     null|<p>You can try <a...|    5924562|            null|            null|                 null|               null|2024-01-01 00:14:52|                null|                null|       null|           0|         null|               null|              null|  CC BY-SA 4.0|\n",
      "|77740674|         1|        77741167|    null|2024-01-01 00:22:02|        null|    3|       67|<p>I need to run ...|   11850322|            null|            null|                 null|               null|2024-01-01 06:51:37|Pandas Groupby - ...|<python><python-3...|          1|           1|         null|               null|              null|  CC BY-SA 4.0|\n",
      "|77740675|         2|            null|77738052|2024-01-01 00:24:31|        null|    0|     null|<blockquote>\\n<p>...|    2173773|            null|            null|                 null|               null|2024-01-01 00:24:31|                null|                null|       null|           0|         null|               null|              null|  CC BY-SA 4.0|\n",
      "|77740676|         2|            null|77739850|2024-01-01 00:24:35|        null|    2|     null|<p>Many text proc...|    1745001|            null|            null|                 null|               null|2024-01-01 00:24:35|                null|                null|       null|           0|         null|               null|              null|  CC BY-SA 4.0|\n",
      "+--------+----------+----------------+--------+-------------------+------------+-----+---------+--------------------+-----------+----------------+----------------+---------------------+-------------------+-------------------+--------------------+--------------------+-----------+------------+-------------+-------------------+------------------+--------------+\n",
      "only showing top 20 rows\n",
      "\n"
     ]
    }
   ],
   "source": [
    "posts_dataframe.show()"
   ]
  },
  {
   "cell_type": "code",
   "execution_count": 7,
   "metadata": {},
   "outputs": [
    {
     "name": "stdout",
     "output_type": "stream",
     "text": [
      "+-------+-------------------+------------------+-------------------+--------------------+------------------+-----------------+--------------------+--------------------+----------------+-----------------+---------------------+--------------------+--------------------+------------------+------------------+-------------+--------------+\n",
      "|summary|                 Id|        PostTypeId|   AcceptedAnswerId|            ParentId|             Score|        ViewCount|                Body|         OwnerUserId|OwnerDisplayName| LastEditorUserId|LastEditorDisplayName|               Title|                Tags|       AnswerCount|      CommentCount|FavoriteCount|ContentLicense|\n",
      "+-------+-------------------+------------------+-------------------+--------------------+------------------+-----------------+--------------------+--------------------+----------------+-----------------+---------------------+--------------------+--------------------+------------------+------------------+-------------+--------------+\n",
      "|  count|              38841|             38841|               5164|               20277|             38841|            18530|               38830|               38678|             168|            15068|                  103|               18530|               18521|             18530|             38841|            0|         38841|\n",
      "|   mean|7.776864554674184E7|1.5251152133055277|7.778589200987607E7| 6.985488967233811E7|0.5444504518421256|262.0165677280086|                null|1.2104763403071513E7|            null|9178915.883063445|                 null|                null|                null|0.7672962763086886|1.2812749414278726|         null|          null|\n",
      "| stddev| 16545.962531771635| 0.507202249878371|  89157.84046519906|1.7302719884561263E7|1.5213000759494462|940.7946311299045|                null|   8171156.840623671|            null|7972841.857415508|                 null|                null|                null|0.8071199952827341|2.3008868083105654|         null|          null|\n",
      "|    min|           77740643|                 1|           77740685|               17250|                -8|                4|\\n<div class=\"s-t...|                  -1|          Dmitry|               -1|         user11631308|! LaTeX Error: En...|<2d-games><gdscri...|                 0|                 0|         null|  CC BY-SA 4.0|\n",
      "|    max|           77797000|                 5|           79081722|            77796963|                86|            43525|std::print, std::...|            25361372|        user9706|         25501884|             user9706|Аrrangement of fu...|           <zustand>|                 9|                36|         null|  CC BY-SA 4.0|\n",
      "+-------+-------------------+------------------+-------------------+--------------------+------------------+-----------------+--------------------+--------------------+----------------+-----------------+---------------------+--------------------+--------------------+------------------+------------------+-------------+--------------+\n",
      "\n"
     ]
    }
   ],
   "source": [
    "posts_dataframe.describe().show()"
   ]
  },
  {
   "cell_type": "code",
   "execution_count": 8,
   "metadata": {},
   "outputs": [
    {
     "name": "stdout",
     "output_type": "stream",
     "text": [
      "+-------+-------------------+------------------+-------------------+--------------------+------------------+-----------------+--------------------+--------------------+----------------+-----------------+---------------------+--------------------+--------------------+------------------+------------------+-------------+--------------+\n",
      "|summary|                 Id|        PostTypeId|   AcceptedAnswerId|            ParentId|             Score|        ViewCount|                Body|         OwnerUserId|OwnerDisplayName| LastEditorUserId|LastEditorDisplayName|               Title|                Tags|       AnswerCount|      CommentCount|FavoriteCount|ContentLicense|\n",
      "+-------+-------------------+------------------+-------------------+--------------------+------------------+-----------------+--------------------+--------------------+----------------+-----------------+---------------------+--------------------+--------------------+------------------+------------------+-------------+--------------+\n",
      "|  count|              38841|             38841|               5164|               20277|             38841|            18530|               38830|               38678|             168|            15068|                  103|               18530|               18521|             18530|             38841|            0|         38841|\n",
      "|   mean|7.776864554674184E7|1.5251152133055277|7.778589200987607E7| 6.985488967233811E7|0.5444504518421256|262.0165677280086|                null|1.2104763403071513E7|            null|9178915.883063445|                 null|                null|                null|0.7672962763086886|1.2812749414278726|         null|          null|\n",
      "| stddev| 16545.962531771635| 0.507202249878371|  89157.84046519906|1.7302719884561263E7|1.5213000759494462|940.7946311299045|                null|   8171156.840623671|            null|7972841.857415508|                 null|                null|                null|0.8071199952827341|2.3008868083105654|         null|          null|\n",
      "|    min|           77740643|                 1|           77740685|               17250|                -8|                4|\\n<div class=\"s-t...|                  -1|          Dmitry|               -1|         user11631308|! LaTeX Error: En...|<2d-games><gdscri...|                 0|                 0|         null|  CC BY-SA 4.0|\n",
      "|    25%|           77754309|                 1|           77758192|            73485111|                 0|               54|                null|             4262407|            null|          2189130|                 null|                null|                null|                 0|                 0|         null|          null|\n",
      "|    50%|           77767731|                 2|           77772899|            77747811|                 0|              100|                null|            11846363|            null|          6479904|                 null|                null|                null|                 1|                 0|         null|          null|\n",
      "|    75%|           77783922|                 2|           77789532|            77769992|                 1|              223|                null|            20503627|            null|         15948240|                 null|                null|                null|                 1|                 2|         null|          null|\n",
      "|    max|           77797000|                 5|           79081722|            77796963|                86|            43525|std::print, std::...|            25361372|        user9706|         25501884|             user9706|Аrrangement of fu...|           <zustand>|                 9|                36|         null|  CC BY-SA 4.0|\n",
      "+-------+-------------------+------------------+-------------------+--------------------+------------------+-----------------+--------------------+--------------------+----------------+-----------------+---------------------+--------------------+--------------------+------------------+------------------+-------------+--------------+\n",
      "\n"
     ]
    }
   ],
   "source": [
    "posts_dataframe.summary().show()"
   ]
  },
  {
   "cell_type": "code",
   "execution_count": 9,
   "metadata": {},
   "outputs": [],
   "source": [
    "question_without_tags = posts_dataframe.filter(\n",
    "    posts_dataframe[columns.tags].isNull() & (posts_dataframe[columns.post_type_id] == 1)\n",
    ")"
   ]
  },
  {
   "cell_type": "code",
   "execution_count": 10,
   "metadata": {},
   "outputs": [
    {
     "data": {
      "text/plain": [
       "9"
      ]
     },
     "execution_count": 10,
     "metadata": {},
     "output_type": "execute_result"
    }
   ],
   "source": [
    "question_without_tags.count()"
   ]
  },
  {
   "cell_type": "code",
   "execution_count": 11,
   "metadata": {},
   "outputs": [
    {
     "data": {
      "text/plain": [
       "38841"
      ]
     },
     "execution_count": 11,
     "metadata": {},
     "output_type": "execute_result"
    }
   ],
   "source": [
    "posts_dataframe = posts_dataframe.drop_duplicates()\n",
    "posts_dataframe.count()"
   ]
  },
  {
   "cell_type": "code",
   "execution_count": 12,
   "metadata": {},
   "outputs": [
    {
     "data": {
      "text/plain": [
       "38841"
      ]
     },
     "execution_count": 12,
     "metadata": {},
     "output_type": "execute_result"
    }
   ],
   "source": [
    "posts_dataframe = posts_dataframe.dropna('all')\n",
    "posts_dataframe.count()"
   ]
  },
  {
   "cell_type": "code",
   "execution_count": 13,
   "metadata": {},
   "outputs": [
    {
     "data": {
      "text/plain": [
       "34"
      ]
     },
     "execution_count": 13,
     "metadata": {},
     "output_type": "execute_result"
    }
   ],
   "source": [
    "not_question_or_answer = posts_dataframe.filter(~f.col(columns.post_type_id).isin([1, 2]))\n",
    "not_question_or_answer.count()"
   ]
  },
  {
   "cell_type": "code",
   "execution_count": 14,
   "metadata": {},
   "outputs": [
    {
     "data": {
      "text/plain": [
       "18521"
      ]
     },
     "execution_count": 14,
     "metadata": {},
     "output_type": "execute_result"
    }
   ],
   "source": [
    "questions_dataframe = posts_dataframe.filter(\n",
    "    (f.col(columns.post_type_id) == 1) & (~f.col(columns.tags).isNull())\n",
    ")\n",
    "questions_dataframe.count()"
   ]
  },
  {
   "cell_type": "code",
   "execution_count": 15,
   "metadata": {},
   "outputs": [
    {
     "data": {
      "text/plain": [
       "20277"
      ]
     },
     "execution_count": 15,
     "metadata": {},
     "output_type": "execute_result"
    }
   ],
   "source": [
    "answers_dataframe = posts_dataframe.filter(\n",
    "    (f.col(columns.post_type_id) == 2) & (f.col(columns.tags).isNull())\n",
    ")\n",
    "answers_dataframe.count()"
   ]
  },
  {
   "cell_type": "code",
   "execution_count": 16,
   "metadata": {},
   "outputs": [
    {
     "data": {
      "text/plain": [
       "58318"
      ]
     },
     "execution_count": 16,
     "metadata": {},
     "output_type": "execute_result"
    }
   ],
   "source": [
    "comments_dataframe.count()"
   ]
  },
  {
   "cell_type": "code",
   "execution_count": 17,
   "metadata": {},
   "outputs": [
    {
     "name": "stdout",
     "output_type": "stream",
     "text": [
      "+---------+--------+-----+--------------------+-------------------+---------------+--------+--------------+\n",
      "|       Id|  PostId|Score|                Text|       CreationDate|UserDisplayName|  UserId|ContentLicense|\n",
      "+---------+--------+-----+--------------------+-------------------+---------------+--------+--------------+\n",
      "|137056542|77741822|    0|@ezw yes i tried,...|2024-01-01 16:04:54|           null|23179735|  CC BY-SA 4.0|\n",
      "|137056543|77740525|    0|Thank you very mu...|2024-01-01 16:05:02|           null|16114382|  CC BY-SA 4.0|\n",
      "|137056544|77742261|    0|\"I am able to see...|2024-01-01 16:05:20|           null|  861716|  CC BY-SA 4.0|\n",
      "|137056546|72658808|    0|Would it be bette...|2024-01-01 16:05:56|           null| 3260008|  CC BY-SA 4.0|\n",
      "|137056547|77742464|    0|I found out simil...|2024-01-01 16:06:35|           null|12018173|  CC BY-SA 4.0|\n",
      "|137056548|77742409|    1|It won't retain t...|2024-01-01 16:06:37|           null| 7582247|  CC BY-SA 4.0|\n",
      "|137056549|77740912|    0|You have a great ...|2024-01-01 16:06:41|           null|17075993|  CC BY-SA 4.0|\n",
      "|137056550|71301322|    1|@LSR, to keep the...|2024-01-01 16:07:32|           null|  513413|  CC BY-SA 4.0|\n",
      "|137056551|77742464|    0|The difference is...|2024-01-01 16:08:07|           null|  807126|  CC BY-SA 4.0|\n",
      "|137056557|77742415|    1|Then don't run th...|2024-01-01 16:09:25|           null|11306028|  CC BY-SA 4.0|\n",
      "|137056560|77742473|    0|Can you edit the ...|2024-01-01 16:09:44|           null|13548731|  CC BY-SA 4.0|\n",
      "|137056562|77723429|    0|I added a mre, wh...|2024-01-01 16:10:04|           null|22484365|  CC BY-SA 4.0|\n",
      "|137056564|77742409|    0|I, understand, bu...|2024-01-01 16:10:51|           null|14978094|  CC BY-SA 4.0|\n",
      "|137056567|77740142|    0|@JaromandaX X  no...|2024-01-01 16:11:41|           null|22895478|  CC BY-SA 4.0|\n",
      "|137056568|77742367|    0|Take out the seco...|2024-01-01 16:11:45|           null| 6870228|  CC BY-SA 4.0|\n",
      "|137056569|48870542|    0|@user4815162342 m...|2024-01-01 16:11:46|           null|  393969|  CC BY-SA 4.0|\n",
      "|137056570|77739138|    0|Thanks, but that'...|2024-01-01 16:11:50|           null|  345258|  CC BY-SA 4.0|\n",
      "|137056572|52717682|    0|Thank you for thi...|2024-01-01 16:11:57|           null| 2662728|  CC BY-SA 4.0|\n",
      "|137056574|77742314|    0|You can't do this...|2024-01-01 16:12:39|           null|23174711|  CC BY-SA 4.0|\n",
      "|137056575|77742443|    0|You should send c...|2024-01-01 16:12:53|           null|14903514|  CC BY-SA 4.0|\n",
      "+---------+--------+-----+--------------------+-------------------+---------------+--------+--------------+\n",
      "only showing top 20 rows\n",
      "\n"
     ]
    }
   ],
   "source": [
    "comments_dataframe.show()"
   ]
  },
  {
   "cell_type": "code",
   "execution_count": 18,
   "metadata": {},
   "outputs": [
    {
     "name": "stdout",
     "output_type": "stream",
     "text": [
      "+-------+--------------------+--------------------+-------------------+--------------------+---------------+-----------------+--------------+\n",
      "|summary|                  Id|              PostId|              Score|                Text|UserDisplayName|           UserId|ContentLicense|\n",
      "+-------+--------------------+--------------------+-------------------+--------------------+---------------+-----------------+--------------+\n",
      "|  count|               58318|               58318|              58318|               58318|            220|            58098|         58318|\n",
      "|   mean|1.3710182760706815E8| 7.374122717363422E7|0.27082547412462704|                null|           null|8190080.357000241|          null|\n",
      "| stddev|   28219.87327927787|1.2896410434211098E7| 0.7203696474689596|                null|           null| 7584051.04121727|          null|\n",
      "|    min|           137053436|                 623|                  0|!Now I disable a ...|   user11631308|               -1|  CC BY-SA 4.0|\n",
      "|    max|           138070671|            77796981|                 23|🤦‍♂️ Wow, thank ...|       user9706|         23512643|  CC BY-SA 4.0|\n",
      "+-------+--------------------+--------------------+-------------------+--------------------+---------------+-----------------+--------------+\n",
      "\n"
     ]
    }
   ],
   "source": [
    "comments_dataframe.describe().show()"
   ]
  },
  {
   "cell_type": "code",
   "execution_count": 19,
   "metadata": {},
   "outputs": [
    {
     "name": "stdout",
     "output_type": "stream",
     "text": [
      "+-------+--------------------+--------------------+-------------------+--------------------+---------------+-----------------+--------------+\n",
      "|summary|                  Id|              PostId|              Score|                Text|UserDisplayName|           UserId|ContentLicense|\n",
      "+-------+--------------------+--------------------+-------------------+--------------------+---------------+-----------------+--------------+\n",
      "|  count|               58318|               58318|              58318|               58318|            220|            58098|         58318|\n",
      "|   mean|1.3710182760706815E8| 7.374122717363422E7|0.27082547412462704|                null|           null|8190080.357000241|          null|\n",
      "| stddev|   28219.87327927787|1.2896410434211098E7| 0.7203696474689596|                null|           null| 7584051.04121727|          null|\n",
      "|    min|           137053436|                 623|                  0|!Now I disable a ...|   user11631308|               -1|  CC BY-SA 4.0|\n",
      "|    25%|           137077500|            77740500|                  0|                null|           null|          1540177|          null|\n",
      "|    50%|           137101669|            77757009|                  0|                null|           null|          5540159|          null|\n",
      "|    75%|           137126325|            77775161|                  0|                null|           null|         13464420|          null|\n",
      "|    max|           138070671|            77796981|                 23|🤦‍♂️ Wow, thank ...|       user9706|         23512643|  CC BY-SA 4.0|\n",
      "+-------+--------------------+--------------------+-------------------+--------------------+---------------+-----------------+--------------+\n",
      "\n"
     ]
    }
   ],
   "source": [
    "comments_dataframe.summary().show()"
   ]
  },
  {
   "cell_type": "code",
   "execution_count": 20,
   "metadata": {},
   "outputs": [
    {
     "data": {
      "text/plain": [
       "5895"
      ]
     },
     "execution_count": 20,
     "metadata": {},
     "output_type": "execute_result"
    }
   ],
   "source": [
    "tag_synonyms_dataframe.count()"
   ]
  },
  {
   "cell_type": "code",
   "execution_count": 21,
   "metadata": {},
   "outputs": [
    {
     "name": "stdout",
     "output_type": "stream",
     "text": [
      "+-------+------------------+------------------+-------------+-----------------+------------------+------------------+------------------+\n",
      "|summary|                Id|     SourceTagName|TargetTagName|      OwnerUserId|   AutoRenameCount|             Score|  ApprovedByUserId|\n",
      "+-------+------------------+------------------+-------------+-----------------+------------------+------------------+------------------+\n",
      "|  count|              5895|              5895|         5895|             5779|              5895|              5895|              5269|\n",
      "|   mean| 5221.687362171331|          4584.185|          3.0| 1944282.62502163|460.77319762510604|1.1888040712468193|1541889.5312203455|\n",
      "| stddev|2539.4878271606967|3874.7964273429902|         null|3145492.907472555|2751.4532084008333|1.6882425947780475|2882228.6606160607|\n",
      "|    min|                 3|             .ajax|    .htaccess|               -1|                 0|                -1|                -1|\n",
      "|    max|              9133|               zul|      zooming|         20292589|             97752|                 5|          18279858|\n",
      "+-------+------------------+------------------+-------------+-----------------+------------------+------------------+------------------+\n",
      "\n"
     ]
    }
   ],
   "source": [
    "tag_synonyms_dataframe.describe().show()"
   ]
  },
  {
   "cell_type": "code",
   "execution_count": 22,
   "metadata": {},
   "outputs": [
    {
     "name": "stdout",
     "output_type": "stream",
     "text": [
      "+-------+------------------+------------------+-------------+-----------------+------------------+------------------+------------------+\n",
      "|summary|                Id|     SourceTagName|TargetTagName|      OwnerUserId|   AutoRenameCount|             Score|  ApprovedByUserId|\n",
      "+-------+------------------+------------------+-------------+-----------------+------------------+------------------+------------------+\n",
      "|  count|              5895|              5895|         5895|             5779|              5895|              5895|              5269|\n",
      "|   mean| 5221.687362171331|          4584.185|          3.0| 1944282.62502163|460.77319762510604|1.1888040712468193|1541889.5312203455|\n",
      "| stddev|2539.4878271606967|3874.7964273429902|         null|3145492.907472555|2751.4532084008333|1.6882425947780475|2882228.6606160607|\n",
      "|    min|                 3|             .ajax|    .htaccess|               -1|                 0|                -1|                -1|\n",
      "|    25%|              3215|            802.11|          3.0|           102937|                 1|                 0|                -1|\n",
      "|    50%|              5543|            2038.0|          3.0|           444991|                19|                 0|            106224|\n",
      "|    75%|              7376|            8087.0|          3.0|          2767207|               140|                 3|           2370483|\n",
      "|    max|              9133|               zul|      zooming|         20292589|             97752|                 5|          18279858|\n",
      "+-------+------------------+------------------+-------------+-----------------+------------------+------------------+------------------+\n",
      "\n"
     ]
    }
   ],
   "source": [
    "tag_synonyms_dataframe.summary().show()"
   ]
  },
  {
   "cell_type": "code",
   "execution_count": 23,
   "metadata": {},
   "outputs": [
    {
     "data": {
      "text/plain": [
       "65994"
      ]
     },
     "execution_count": 23,
     "metadata": {},
     "output_type": "execute_result"
    }
   ],
   "source": [
    "tags_dataframe.count()"
   ]
  },
  {
   "cell_type": "code",
   "execution_count": 24,
   "metadata": {},
   "outputs": [
    {
     "name": "stdout",
     "output_type": "stream",
     "text": [
      "+------+--------------------+-----+-------------+----------+---------------+----------+\n",
      "|    Id|             TagName|Count|ExcerptPostId|WikiPostId|IsModeratorOnly|IsRequired|\n",
      "+------+--------------------+-----+-------------+----------+---------------+----------+\n",
      "|100002|          glowscript|   17|     21239508|  21239507|           null|      null|\n",
      "|100005|bootstrap-datetim...|  747|     29579877|  29579876|           null|      null|\n",
      "|100007|       computercraft|  145|     21193895|  21193894|           null|      null|\n",
      "|100008|         dapper-lite|    1|     21234038|  21234037|           null|      null|\n",
      "|100010|          repast-hpc|   18|     21206486|  21206485|           null|      null|\n",
      "|100011|               weber|    1|     21234197|  21234196|           null|      null|\n",
      "|100012|       fitnesse-slim|  172|     21207710|  21207709|           null|      null|\n",
      "|100013|              utfcpp|    2|     21197326|  21197325|           null|      null|\n",
      "|100014| hyperbolic-function|   39|         null|      null|           null|      null|\n",
      "|100020|  windows-8-mail-app|    4|         null|      null|           null|      null|\n",
      "|100023|  continuous-fourier|   69|     21203533|  21203532|           null|      null|\n",
      "|100024|            cinnamon|  101|     21206376|  21206375|           null|      null|\n",
      "|100026|      sankey-diagram|  807|     21208338|  21208337|           null|      null|\n",
      "|100030|         bitdefender|   14|     21239262|  21239261|           null|      null|\n",
      "|100032|            gitstack|   22|     21219749|  21219748|           null|      null|\n",
      "|100034|    arena-simulation|   40|     21209155|  21209154|           null|      null|\n",
      "|100035|    sunburst-diagram|  346|     21211571|  21211570|           null|      null|\n",
      "|100036|        yesod-julius|    7|     21209948|  21209947|           null|      null|\n",
      "|100037|parallel-coordinates|  130|     21211615|  21211614|           null|      null|\n",
      "|100040|  socialregistration|    4|         null|      null|           null|      null|\n",
      "+------+--------------------+-----+-------------+----------+---------------+----------+\n",
      "only showing top 20 rows\n",
      "\n"
     ]
    }
   ],
   "source": [
    "tags_dataframe.show()"
   ]
  }
 ],
 "metadata": {
  "kernelspec": {
   "display_name": "venv",
   "language": "python",
   "name": "python3"
  },
  "language_info": {
   "codemirror_mode": {
    "name": "ipython",
    "version": 3
   },
   "file_extension": ".py",
   "mimetype": "text/x-python",
   "name": "python",
   "nbconvert_exporter": "python",
   "pygments_lexer": "ipython3",
   "version": "3.9.7"
  }
 },
 "nbformat": 4,
 "nbformat_minor": 2
}
