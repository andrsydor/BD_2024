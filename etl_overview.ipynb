{
 "cells": [
  {
   "cell_type": "code",
   "execution_count": 1,
   "metadata": {},
   "outputs": [],
   "source": [
    "from pyspark import SparkConf\n",
    "from pyspark.sql import functions as f\n",
    "from pyspark.sql import SparkSession\n",
    "from pyspark.sql.types import StringType, IntegerType, StructType, StructField, TimestampType\n",
    "\n",
    "from core.csv_data_manager import CSVDataManager\n",
    "\n",
    "from metadata.columns import StackExchangeColumns as columns\n",
    "from metadata.schemas import posts_schema, comments_schema, tag_synonyms_schema, tags_schema"
   ]
  },
  {
   "cell_type": "code",
   "execution_count": 2,
   "metadata": {},
   "outputs": [],
   "source": [
    "DATA_DIRECTORY_PATH = \"D:/PyCharmStorage/BD_2024/data\""
   ]
  },
  {
   "cell_type": "code",
   "execution_count": 3,
   "metadata": {},
   "outputs": [],
   "source": [
    "spark_session = (SparkSession.builder\n",
    "                 .master(\"local\")\n",
    "                 .appName(\"BD_2024\")\n",
    "                 .config(conf=SparkConf())\n",
    "                 .getOrCreate())\n",
    "\n",
    "csv_data_manager = CSVDataManager(spark_session, DATA_DIRECTORY_PATH)"
   ]
  },
  {
   "cell_type": "code",
   "execution_count": 4,
   "metadata": {},
   "outputs": [],
   "source": [
    "posts_dataframe = csv_data_manager.read([\"/Posts_1.csv\"], schema=posts_schema)\n",
    "comments_dataframe = csv_data_manager.read([\"/Comments_1.csv\", \"/Comments_2.csv\"], schema=comments_schema)\n",
    "tag_synonyms_dataframe = csv_data_manager.read([\"/TagSynonyms.csv\"], schema=tag_synonyms_schema)\n",
    "tags_dataframe = csv_data_manager.read([\"/Tags_1.csv\", \"/Tags_2.csv\"], schema=tags_schema)"
   ]
  },
  {
   "cell_type": "code",
   "execution_count": 5,
   "metadata": {},
   "outputs": [],
   "source": [
    "posts_dataframe = posts_dataframe.drop_duplicates()"
   ]
  },
  {
   "cell_type": "code",
   "execution_count": 6,
   "metadata": {},
   "outputs": [],
   "source": [
    "posts_dataframe = posts_dataframe.dropna('all')"
   ]
  },
  {
   "cell_type": "code",
   "execution_count": 7,
   "metadata": {},
   "outputs": [
    {
     "name": "stdout",
     "output_type": "stream",
     "text": [
      "+--------+----------+----------------+--------+-------------------+------------+-----+---------+--------------------+-----------+----------------+----------------+---------------------+-------------------+-------------------+--------------------+--------------------+-----------+------------+-------------+-------------------+------------------+--------------+\n",
      "|      Id|PostTypeId|AcceptedAnswerId|ParentId|       CreationDate|DeletionDate|Score|ViewCount|                Body|OwnerUserId|OwnerDisplayName|LastEditorUserId|LastEditorDisplayName|       LastEditDate|   LastActivityDate|               Title|                Tags|AnswerCount|CommentCount|FavoriteCount|         ClosedDate|CommunityOwnedDate|ContentLicense|\n",
      "+--------+----------+----------------+--------+-------------------+------------+-----+---------+--------------------+-----------+----------------+----------------+---------------------+-------------------+-------------------+--------------------+--------------------+-----------+------------+-------------+-------------------+------------------+--------------+\n",
      "|77741970|         1|            null|    null|2024-01-01 12:59:16|        null|    0|      163|<p>I have 2 backe...|   20346404|            null|            null|                 null|               null|2024-01-01 15:26:11|To send Push Noti...|<firebase><push-n...|          1|           1|         null|               null|              null|  CC BY-SA 4.0|\n",
      "|77742164|         1|            null|    null|2024-01-01 14:19:21|        null|    1|       60|<p>We are present...|   21559556|            null|            null|                 null|               null|2024-01-01 14:19:21|Migrating Django ...|<python><django><...|          0|           3|         null|               null|              null|  CC BY-SA 4.0|\n",
      "|77743317|         1|            null|    null|2024-01-01 20:53:22|        null|   -1|      102|<p>I'm trying to ...|   20426350|            null|            null|                 null|               null|2024-01-02 02:12:58|Unknown browser q...|<node.js><npm><ta...|          1|           0|         null|               null|              null|  CC BY-SA 4.0|\n",
      "|77743325|         1|        77743354|    null|2024-01-01 20:55:11|        null|   -4|       94|<p>Create 6 Disti...|   17248645|            null|        17248645|                 null|2024-01-01 22:20:48|2024-01-01 22:20:48|Create 6 Distinct...|<flutter><dart><r...|          2|           5|         null|2024-01-02 14:38:37|              null|  CC BY-SA 4.0|\n",
      "|77743808|         1|            null|    null|2024-01-02 01:05:39|        null|    0|      300|<p>I keep finding...|    4955162|            null|         6225326|                 null|2024-01-02 01:31:39|2024-01-02 01:40:08|Vue3 Composition ...|<amazon-web-servi...|          2|           0|         null|               null|              null|  CC BY-SA 4.0|\n",
      "|77744031|         1|            null|    null|2024-01-02 03:15:57|        null|    0|      208|<p><a href=\"https...|   10325396|            null|            null|                 null|               null|2024-01-02 03:15:57|Detect when someo...|<c#><addition><co...|          0|           0|         null|               null|              null|  CC BY-SA 4.0|\n",
      "|77744953|         1|            null|    null|2024-01-02 08:42:09|        null|    0|      102|<p>Hello All I am...|   16476089|            null|            null|                 null|               null|2024-01-02 08:42:09|Unable to collect...|<django><google-c...|          0|           1|         null|               null|              null|  CC BY-SA 4.0|\n",
      "|77745489|         1|        77746491|    null|2024-01-02 10:33:26|        null|    0|      658|<p>I am setting u...|    3904168|            null|         3904168|                 null|2024-01-02 15:44:23|2024-01-02 15:44:23|Spring cloud gate...|<spring-boot><oau...|          1|           0|         null|               null|              null|  CC BY-SA 4.0|\n",
      "|77745673|         1|        77751446|    null|2024-01-02 11:07:59|        null|    2|      615|<p>My current poe...|    5594008|            null|         5594008|                 null|2024-01-02 19:53:09|2024-01-03 11:06:30|Poetry add comman...|<python><python-p...|          1|           1|         null|               null|              null|  CC BY-SA 4.0|\n",
      "|77745712|         1|            null|    null|2024-01-02 11:16:00|        null|    0|       36|<p>How can I add ...|   22963341|            null|         4017881|                 null|2024-03-12 01:51:56|2024-03-12 01:51:56|    JLink RTT Driver|<bare-metal><nxp-...|          0|           0|         null|               null|              null|  CC BY-SA 4.0|\n",
      "|77746352|         1|            null|    null|2024-01-02 13:22:34|        null|    0|      321|<p>I need to fine...|   22984494|            null|        22984494|                 null|2024-01-02 14:48:33|2024-01-03 09:01:34|How to fine tune ...|<python><deep-lea...|          1|           0|         null|               null|              null|  CC BY-SA 4.0|\n",
      "|77746445|         1|            null|    null|2024-01-02 13:41:40|        null|    0|      443|<p><img src=\"http...|   20597359|            null|         4136999|                 null|2024-01-06 17:48:24|2024-01-06 17:48:24|OSError: Unable t...|<python><pytorch>...|          0|           0|         null|               null|              null|  CC BY-SA 4.0|\n",
      "|77746461|         1|        77746794|    null|2024-01-02 13:44:33|        null|    1|      726|<p>With jsonnet, ...|    2362921|            null|            null|                 null|               null|2024-01-02 14:49:31|jsonnet : provide...|           <jsonnet>|          1|           0|         null|               null|              null|  CC BY-SA 4.0|\n",
      "|77746829|         1|            null|    null|2024-01-02 14:56:43|        null|    0|       87|<p>I tried to clo...|   10104325|            null|         5947043|                 null|2024-06-04 15:52:41|2024-06-04 15:52:41|Error with certif...|<azure><azure-dev...|          0|           2|         null|               null|              null|  CC BY-SA 4.0|\n",
      "|77747167|         1|            null|    null|2024-01-02 15:54:53|        null|    1|       28|<p>This is what m...|    1339826|            null|            null|                 null|               null|2024-01-02 15:54:53|mat-options only ...|<angular><typescr...|          0|           1|         null|               null|              null|  CC BY-SA 4.0|\n",
      "|77747315|         1|            null|    null|2024-01-02 16:20:46|        null|    0|     1078|<p>Imagine I have...|    8791642|            null|            null|                 null|               null|2024-01-02 17:02:48|How to extract nu...|<sql><snowflake-c...|          2|           0|         null|               null|              null|  CC BY-SA 4.0|\n",
      "|77748837|         1|            null|    null|2024-01-02 22:18:37|        null|    1|       44|<p><a href=\"https...|   23187324|            null|         2756409|                 null|2024-01-02 22:37:23|2024-01-04 14:37:07|How to do positio...|<reactjs><typescr...|          1|           0|         null|               null|              null|  CC BY-SA 4.0|\n",
      "|77748960|         1|        77749189|    null|2024-01-02 23:00:19|        null|    0|      189|<p>I have a CSS m...|    8284452|            null|            null|                 null|               null|2024-01-03 00:26:58|How do you use se...|               <css>|          1|           7|         null|               null|              null|  CC BY-SA 4.0|\n",
      "|77750241|         1|            null|    null|2024-01-03 07:15:51|        null|    3|      393|<p>I'm using SQLA...|    2497309|            null|            null|                 null|               null|2024-01-03 07:15:51|How do we properl...|<python><sqlalche...|          0|           0|         null|               null|              null|  CC BY-SA 4.0|\n",
      "|77750635|         1|            null|    null|2024-01-03 08:44:45|        null|    0|       39|<p>Is there a rec...|   21061036|            null|        21061036|                 null|2024-01-03 09:11:17|2024-01-03 09:11:17|Suggestions for M...|<postgresql><devops>|          0|           0|         null|               null|              null|  CC BY-SA 4.0|\n",
      "+--------+----------+----------------+--------+-------------------+------------+-----+---------+--------------------+-----------+----------------+----------------+---------------------+-------------------+-------------------+--------------------+--------------------+-----------+------------+-------------+-------------------+------------------+--------------+\n",
      "only showing top 20 rows\n",
      "\n"
     ]
    }
   ],
   "source": [
    "questions_dataframe = posts_dataframe.filter(\n",
    "    (f.col(columns.post_type_id) == 1) & (~f.col(columns.tags).isNull())\n",
    ")\n",
    "questions_dataframe.show()"
   ]
  },
  {
   "cell_type": "code",
   "execution_count": 8,
   "metadata": {},
   "outputs": [
    {
     "name": "stdout",
     "output_type": "stream",
     "text": [
      "+--------+----------+----------------+--------+-------------------+------------+-----+---------+--------------------+-----------+----------------+----------------+---------------------+-------------------+-------------------+-----+----+-----------+------------+-------------+----------+-------------------+--------------+\n",
      "|      Id|PostTypeId|AcceptedAnswerId|ParentId|       CreationDate|DeletionDate|Score|ViewCount|                Body|OwnerUserId|OwnerDisplayName|LastEditorUserId|LastEditorDisplayName|       LastEditDate|   LastActivityDate|Title|Tags|AnswerCount|CommentCount|FavoriteCount|ClosedDate| CommunityOwnedDate|ContentLicense|\n",
      "+--------+----------+----------------+--------+-------------------+------------+-----+---------+--------------------+-----------+----------------+----------------+---------------------+-------------------+-------------------+-----+----+-----------+------------+-------------+----------+-------------------+--------------+\n",
      "|77740824|         2|            null| 3764571|2024-01-01 02:33:44|        null|    0|     null|<p>**You can also...|   14758156|            null|        14758156|                 null|2024-01-01 02:39:26|2024-01-01 02:39:26| null|null|       null|           0|         null|      null|2024-01-01 02:33:44|  CC BY-SA 4.0|\n",
      "|77741252|         2|            null|30859547|2024-01-01 07:34:29|        null|    0|     null|<p>Java Solution:...|    1528863|            null|        10871073|                 null|2024-01-03 03:57:47|2024-01-03 03:57:47| null|null|       null|           0|         null|      null|               null|  CC BY-SA 4.0|\n",
      "|77741265|         2|            null|17558649|2024-01-01 07:43:04|        null|   -1|     null|<p>If anyone is u...|   15178796|            null|            null|                 null|               null|2024-01-01 07:43:04| null|null|       null|           0|         null|      null|               null|  CC BY-SA 4.0|\n",
      "|77741724|         2|            null|77741655|2024-01-01 11:18:43|        null|    1|     null|<p>Here's your pr...|   14098260|            null|            null|                 null|               null|2024-01-01 11:18:43| null|null|       null|           0|         null|      null|               null|  CC BY-SA 4.0|\n",
      "|77742774|         2|            null|77742480|2024-01-01 17:39:07|        null|    1|     null|<p>you can't do w...|    3438111|            null|            null|                 null|               null|2024-01-01 17:39:07| null|null|       null|           0|         null|      null|               null|  CC BY-SA 4.0|\n",
      "|77743425|         2|            null|46299171|2024-01-01 21:37:40|        null|    0|     null|<p>If you use spr...|    2697796|            null|            null|                 null|               null|2024-01-01 21:37:40| null|null|       null|           0|         null|      null|               null|  CC BY-SA 4.0|\n",
      "|77743436|         2|            null|77743422|2024-01-01 21:41:53|        null|    1|     null|<p>Please try thi...|   21999136|            null|            null|                 null|               null|2024-01-01 21:41:53| null|null|       null|           0|         null|      null|               null|  CC BY-SA 4.0|\n",
      "|77743855|         2|            null|77743814|2024-01-02 01:35:09|        null|    3|     null|<p>first of all w...|   23183070|            null|            null|                 null|               null|2024-01-02 01:35:09| null|null|       null|           1|         null|      null|               null|  CC BY-SA 4.0|\n",
      "|77743969|         2|            null|77742964|2024-01-02 02:47:24|        null|    1|     null|<p>As Jason has p...|    9644964|            null|            null|                 null|               null|2024-01-02 02:47:24| null|null|       null|           0|         null|      null|2024-01-02 02:47:24|  CC BY-SA 4.0|\n",
      "|77744035|         2|            null|77743977|2024-01-02 03:16:21|        null|    1|     null|<p>You can use <a...|     283366|            null|          283366|                 null|2024-01-02 03:28:30|2024-01-02 03:28:30| null|null|       null|           0|         null|      null|               null|  CC BY-SA 4.0|\n",
      "|77744250|         2|            null|77740822|2024-01-02 05:05:32|        null|    1|     null|<p>useRoute shoul...|    6225326|            null|            null|                 null|               null|2024-01-02 05:05:32| null|null|       null|           1|         null|      null|               null|  CC BY-SA 4.0|\n",
      "|77744664|         2|            null|77744478|2024-01-02 07:30:04|        null|    0|     null|<p>using this one...|   14183685|            null|            null|                 null|               null|2024-01-02 07:30:04| null|null|       null|           1|         null|      null|               null|  CC BY-SA 4.0|\n",
      "|77745189|         2|            null|77745171|2024-01-02 09:30:39|        null|   -1|     null|<p>To retrieve th...|   19440284|            null|            null|                 null|               null|2024-01-02 09:30:39| null|null|       null|           1|         null|      null|               null|  CC BY-SA 4.0|\n",
      "|77745946|         2|            null|77745851|2024-01-02 12:01:26|        null|    0|     null|<p>It means col h...|    3118364|            null|            null|                 null|               null|2024-01-02 12:01:26| null|null|       null|           2|         null|      null|               null|  CC BY-SA 4.0|\n",
      "|77746390|         2|            null|77746037|2024-01-02 13:30:44|        null|    0|     null|<p>Set the ghacti...|   18913382|            null|            null|                 null|               null|2024-01-02 13:30:44| null|null|       null|           0|         null|      null|               null|  CC BY-SA 4.0|\n",
      "|77747084|         2|            null|77713894|2024-01-02 15:42:45|        null|    0|     null|<p>Redis stores e...|     513710|            null|            null|                 null|               null|2024-01-02 15:42:45| null|null|       null|           0|         null|      null|               null|  CC BY-SA 4.0|\n",
      "|77747962|         2|            null|38839693|2024-01-02 18:41:18|        null|    1|     null|<h5>TLDR</h5>\\n<p...|    8285811|            null|            null|                 null|               null|2024-01-02 18:41:18| null|null|       null|           0|         null|      null|               null|  CC BY-SA 4.0|\n",
      "|77748705|         2|            null|67432761|2024-01-02 21:46:44|        null|    0|     null|<p>It is surprisi...|    9267406|            null|            null|                 null|               null|2024-01-02 21:46:44| null|null|       null|           0|         null|      null|               null|  CC BY-SA 4.0|\n",
      "|77749189|         2|            null|77748960|2024-01-03 00:26:58|        null|    2|     null|<blockquote>\\n<p>...|     707111|            null|            null|                 null|               null|2024-01-03 00:26:58| null|null|       null|           0|         null|      null|               null|  CC BY-SA 4.0|\n",
      "|77749388|         2|            null|77746509|2024-01-03 02:01:55|        null|    1|     null|<p>it seems i fou...|   13225321|            null|            null|                 null|               null|2024-01-03 02:01:55| null|null|       null|           0|         null|      null|               null|  CC BY-SA 4.0|\n",
      "+--------+----------+----------------+--------+-------------------+------------+-----+---------+--------------------+-----------+----------------+----------------+---------------------+-------------------+-------------------+-----+----+-----------+------------+-------------+----------+-------------------+--------------+\n",
      "only showing top 20 rows\n",
      "\n"
     ]
    }
   ],
   "source": [
    "answers_dataframe = posts_dataframe.filter(\n",
    "    (f.col(columns.post_type_id) == 2) & (f.col(columns.tags).isNull())\n",
    ")\n",
    "answers_dataframe.show()"
   ]
  },
  {
   "cell_type": "code",
   "execution_count": 9,
   "metadata": {},
   "outputs": [],
   "source": [
    "question_id_column = \"question_id\"\n",
    "tags_and_question_id = questions_dataframe.select(f.col(columns.id).alias(question_id_column), columns.tags)\n",
    "parent_and_date = answers_dataframe.select(columns.id, columns.parent_id, columns.creation_date)\n",
    "answers_creation_date_and_tags = tags_and_question_id.join(\n",
    "    parent_and_date, [tags_and_question_id[question_id_column] == parent_and_date[columns.parent_id]], \"inner\"\n",
    ").select(columns.id, columns.creation_date, columns.tags)"
   ]
  },
  {
   "cell_type": "code",
   "execution_count": 10,
   "metadata": {},
   "outputs": [],
   "source": [
    "questions_creation_date_and_tags = questions_dataframe.select(columns.id, columns.creation_date, columns.tags)"
   ]
  },
  {
   "cell_type": "code",
   "execution_count": 11,
   "metadata": {},
   "outputs": [],
   "source": [
    "posts_with_tags = questions_creation_date_and_tags.union(answers_creation_date_and_tags).distinct()"
   ]
  },
  {
   "cell_type": "code",
   "execution_count": 12,
   "metadata": {},
   "outputs": [
    {
     "name": "stdout",
     "output_type": "stream",
     "text": [
      "+--------+-------------------+--------------------+\n",
      "|      Id|       CreationDate|                Tags|\n",
      "+--------+-------------------+--------------------+\n",
      "|77757424|2024-01-04 10:10:17|<reactjs><iis><re...|\n",
      "|77747897|2024-01-02 18:25:13|       <google-maps>|\n",
      "|77750360|2024-01-03 07:45:34|<javascript><html...|\n",
      "|77779159|2024-01-08 11:00:56|<node.js><next.js...|\n",
      "|77795684|2024-01-10 18:36:19|<algorithm><stm32...|\n",
      "|77759874|2024-01-04 16:44:16|         <c++><aslr>|\n",
      "|77785204|2024-01-09 08:13:59|          <autocode>|\n",
      "|77772424|2024-01-07 08:45:06|     <xml><xslt-2.0>|\n",
      "|77794509|2024-01-10 15:29:46|<java><date><pars...|\n",
      "|77753935|2024-01-03 18:23:33|<sqlanywhere><mob...|\n",
      "|77793381|2024-01-10 12:30:29|   <java><glassfish>|\n",
      "|77764923|2024-01-05 13:31:50|<django><websocke...|\n",
      "|77775747|2024-01-08 01:34:32|<sql><google-bigq...|\n",
      "|77749588|2024-01-03 03:30:59|<php><microsoft-g...|\n",
      "|77795274|2024-01-10 17:23:18|<mongodb><mongo-s...|\n",
      "|77779970|2024-01-08 12:19:43|       <linux><bash>|\n",
      "|77790798|2024-01-10 03:32:35|<c++><visual-stud...|\n",
      "|77767115|2024-01-05 20:41:34|<c#><asp.net-core...|\n",
      "|77791700|2024-01-10 07:58:09|      <spark-submit>|\n",
      "|77769669|2024-01-06 13:50:21|<wordpress><multi...|\n",
      "+--------+-------------------+--------------------+\n",
      "only showing top 20 rows\n",
      "\n"
     ]
    }
   ],
   "source": [
    "posts_with_tags.show()"
   ]
  },
  {
   "cell_type": "code",
   "execution_count": 13,
   "metadata": {},
   "outputs": [],
   "source": [
    "posts_with_tags_for_comments = posts_with_tags.select(columns.id, columns.tags)\n",
    "comments_post_id_and_date = comments_dataframe.select(columns.post_id, columns.creation_date)\n",
    "comments_dates_with_tags = posts_with_tags_for_comments.join(\n",
    "    comments_post_id_and_date, [posts_with_tags_for_comments[columns.id] == comments_post_id_and_date[columns.post_id]], \"inner\"\n",
    ").select(columns.creation_date, columns.tags)"
   ]
  },
  {
   "cell_type": "code",
   "execution_count": 14,
   "metadata": {},
   "outputs": [],
   "source": [
    "posts_dates_with_tags = posts_with_tags.select(columns.creation_date, columns.tags)\n",
    "\n",
    "dates_with_tags = posts_dates_with_tags.union(comments_dates_with_tags).distinct()"
   ]
  },
  {
   "cell_type": "code",
   "execution_count": 15,
   "metadata": {},
   "outputs": [
    {
     "name": "stdout",
     "output_type": "stream",
     "text": [
      "+-------------------+--------------------+\n",
      "|       CreationDate|                Tags|\n",
      "+-------------------+--------------------+\n",
      "|2024-01-06 05:39:47|       <html><forms>|\n",
      "|2024-01-05 07:10:39|           <angular>|\n",
      "|2024-01-10 18:28:11|<typescript><elec...|\n",
      "|2024-01-02 13:35:15|<python><numpy><n...|\n",
      "|2024-01-02 02:49:59|              <rust>|\n",
      "|2024-01-05 10:08:42|     <python><typer>|\n",
      "|2024-01-09 10:24:08|<c#><build><refer...|\n",
      "|2024-01-10 02:14:51| <python><nevergrad>|\n",
      "|2024-01-10 21:02:15|<actionscript-3><...|\n",
      "|2024-01-03 10:31:31|<r><dataframe><jo...|\n",
      "|2024-01-04 12:31:36|<python><image-pr...|\n",
      "|2024-01-08 13:29:26|<python><python-3...|\n",
      "|2024-01-02 22:21:53| <pandas><dataframe>|\n",
      "|2024-01-10 12:03:24|<javascript><html...|\n",
      "|2024-01-04 10:34:09|<angular><spring>...|\n",
      "|2024-01-10 10:56:04|<python><active-d...|\n",
      "|2024-01-04 07:58:25|<javascript><c#><...|\n",
      "|2024-01-08 21:57:41|<javascript><html...|\n",
      "|2024-01-02 20:00:25|<can-bus><autosar...|\n",
      "|2024-01-09 20:03:10|   <xamarin.android>|\n",
      "+-------------------+--------------------+\n",
      "only showing top 20 rows\n",
      "\n"
     ]
    }
   ],
   "source": [
    "dates_with_tags.show()"
   ]
  },
  {
   "cell_type": "code",
   "execution_count": 16,
   "metadata": {},
   "outputs": [],
   "source": [
    "date_and_single_tag = dates_with_tags.withColumn(\n",
    "    columns.tag,\n",
    "    f.explode(f.array_remove(f.split(f.regexp_replace(columns.tags, \"<\", \"\"), \">\"), \"\"))\n",
    ").select(columns.creation_date, columns.tag)"
   ]
  },
  {
   "cell_type": "code",
   "execution_count": 17,
   "metadata": {},
   "outputs": [
    {
     "name": "stdout",
     "output_type": "stream",
     "text": [
      "+-------------------+-----------------+\n",
      "|       CreationDate|              Tag|\n",
      "+-------------------+-----------------+\n",
      "|2024-01-06 05:39:47|             html|\n",
      "|2024-01-06 05:39:47|            forms|\n",
      "|2024-01-05 07:10:39|          angular|\n",
      "|2024-01-10 18:28:11|       typescript|\n",
      "|2024-01-10 18:28:11|         electron|\n",
      "|2024-01-10 18:28:11|             vite|\n",
      "|2024-01-02 13:35:15|           python|\n",
      "|2024-01-02 13:35:15|            numpy|\n",
      "|2024-01-02 13:35:15|numerical-methods|\n",
      "|2024-01-02 02:49:59|             rust|\n",
      "|2024-01-05 10:08:42|           python|\n",
      "|2024-01-05 10:08:42|            typer|\n",
      "|2024-01-09 10:24:08|               c#|\n",
      "|2024-01-09 10:24:08|            build|\n",
      "|2024-01-09 10:24:08|        reference|\n",
      "|2024-01-09 10:24:08|         json.net|\n",
      "|2024-01-10 02:14:51|           python|\n",
      "|2024-01-10 02:14:51|        nevergrad|\n",
      "|2024-01-10 21:02:15|   actionscript-3|\n",
      "|2024-01-10 21:02:15|              air|\n",
      "+-------------------+-----------------+\n",
      "only showing top 20 rows\n",
      "\n"
     ]
    }
   ],
   "source": [
    "date_and_single_tag.show()"
   ]
  },
  {
   "cell_type": "code",
   "execution_count": 18,
   "metadata": {},
   "outputs": [
    {
     "data": {
      "text/plain": [
       "221886"
      ]
     },
     "execution_count": 18,
     "metadata": {},
     "output_type": "execute_result"
    }
   ],
   "source": [
    "date_and_single_tag.count()"
   ]
  },
  {
   "cell_type": "code",
   "execution_count": 19,
   "metadata": {},
   "outputs": [],
   "source": [
    "source_target = tag_synonyms_dataframe.select(columns.source_tag_name, columns.target_tag_name)\n",
    "cleaned_date_and_single_tag = date_and_single_tag.join(\n",
    "    source_target, [date_and_single_tag[columns.tag] == source_target[columns.source_tag_name]], 'left'\n",
    ").withColumn(\n",
    "    columns.tag, f.when(~f.col(columns.target_tag_name).isNull(), f.col(columns.target_tag_name)).otherwise(f.col(columns.tag))\n",
    ").select(columns.creation_date, columns.tag)"
   ]
  },
  {
   "cell_type": "code",
   "execution_count": 20,
   "metadata": {},
   "outputs": [
    {
     "name": "stdout",
     "output_type": "stream",
     "text": [
      "+-------------------+-----------------+\n",
      "|       CreationDate|              Tag|\n",
      "+-------------------+-----------------+\n",
      "|2024-01-06 05:39:47|             html|\n",
      "|2024-01-06 05:39:47|            forms|\n",
      "|2024-01-05 07:10:39|          angular|\n",
      "|2024-01-10 18:28:11|       typescript|\n",
      "|2024-01-10 18:28:11|         electron|\n",
      "|2024-01-10 18:28:11|             vite|\n",
      "|2024-01-02 13:35:15|           python|\n",
      "|2024-01-02 13:35:15|            numpy|\n",
      "|2024-01-02 13:35:15|numerical-methods|\n",
      "|2024-01-02 02:49:59|             rust|\n",
      "|2024-01-05 10:08:42|           python|\n",
      "|2024-01-05 10:08:42|            typer|\n",
      "|2024-01-09 10:24:08|               c#|\n",
      "|2024-01-09 10:24:08|            build|\n",
      "|2024-01-09 10:24:08|        reference|\n",
      "|2024-01-09 10:24:08|         json.net|\n",
      "|2024-01-10 02:14:51|           python|\n",
      "|2024-01-10 02:14:51|        nevergrad|\n",
      "|2024-01-10 21:02:15|   actionscript-3|\n",
      "|2024-01-10 21:02:15|              air|\n",
      "+-------------------+-----------------+\n",
      "only showing top 20 rows\n",
      "\n"
     ]
    }
   ],
   "source": [
    "cleaned_date_and_single_tag.show()"
   ]
  },
  {
   "cell_type": "code",
   "execution_count": 21,
   "metadata": {},
   "outputs": [],
   "source": [
    "day_tag_records = cleaned_date_and_single_tag.withColumn(\n",
    "    columns.date, f.date_format(columns.creation_date, \"yyyy-MM-dd\")\n",
    ").select(columns.date, columns.tag)"
   ]
  },
  {
   "cell_type": "code",
   "execution_count": 22,
   "metadata": {},
   "outputs": [],
   "source": [
    "day_tag_count = (day_tag_records.withColumn(columns.count, f.lit(1))\n",
    "                    .groupBy(columns.date, columns.tag)\n",
    "                    .agg(f.sum(columns.count)\n",
    "                    .alias(columns.count)))"
   ]
  },
  {
   "cell_type": "code",
   "execution_count": 23,
   "metadata": {},
   "outputs": [
    {
     "name": "stdout",
     "output_type": "stream",
     "text": [
      "+----------+--------------------+-----+\n",
      "|      Date|                 Tag|Count|\n",
      "+----------+--------------------+-----+\n",
      "|2024-01-10|           nevergrad|    1|\n",
      "|2024-01-04|   template-matching|    1|\n",
      "|2024-01-03|                json|   85|\n",
      "|2024-01-05|           gstreamer|    2|\n",
      "|2024-01-05|              vb.net|   25|\n",
      "|2024-01-08|          typescript|  272|\n",
      "|2024-01-01|salesforce-lightning|    1|\n",
      "|2024-01-10|             backend|   15|\n",
      "|2024-01-08|               godot|    3|\n",
      "|2024-01-10|             rscript|    7|\n",
      "|2024-01-09| google-calendar-api|    2|\n",
      "|2024-01-07|           wxwidgets|    3|\n",
      "|2024-01-05|                grob|    4|\n",
      "|2024-01-10|              median|   13|\n",
      "|2024-01-09|              prolog|   13|\n",
      "|2024-01-03|           app-store|    5|\n",
      "|2024-01-05|                rest|   17|\n",
      "|2024-01-03|           telemetry|    3|\n",
      "|2024-01-01|       deep-learning|   11|\n",
      "|2024-01-08|              ubuntu|   11|\n",
      "+----------+--------------------+-----+\n",
      "only showing top 20 rows\n",
      "\n"
     ]
    }
   ],
   "source": [
    "day_tag_count.show()"
   ]
  },
  {
   "cell_type": "code",
   "execution_count": 24,
   "metadata": {},
   "outputs": [],
   "source": [
    "tags_dataframe_for_join = tags_dataframe.withColumnRenamed(columns.count, \"GlobalCount\")\n",
    "day_id_tag_count_df = day_tag_count.join(\n",
    "    tags_dataframe_for_join, [day_tag_count[columns.tag] == tags_dataframe_for_join[columns.tag_name]], \"inner\"\n",
    ").select(columns.date, f.col(columns.id).alias(columns.tag_id), columns.tag, columns.count)"
   ]
  },
  {
   "cell_type": "code",
   "execution_count": 25,
   "metadata": {},
   "outputs": [
    {
     "name": "stdout",
     "output_type": "stream",
     "text": [
      "+----------+------+--------------------+-----+\n",
      "|      Date| TagId|                 Tag|Count|\n",
      "+----------+------+--------------------+-----+\n",
      "|2024-01-10|144568|           nevergrad|    1|\n",
      "|2024-01-04| 54257|   template-matching|    1|\n",
      "|2024-01-03|  1508|                json|   85|\n",
      "|2024-01-05| 24851|           gstreamer|    2|\n",
      "|2024-01-05|    41|              vb.net|   25|\n",
      "|2024-01-08| 84518|          typescript|  272|\n",
      "|2024-01-01|124469|salesforce-lightning|    1|\n",
      "|2024-01-10|  5664|             backend|   15|\n",
      "|2024-01-08|124165|               godot|    3|\n",
      "|2024-01-10| 44486|             rscript|    7|\n",
      "|2024-01-09|  5780| google-calendar-api|    2|\n",
      "|2024-01-07|  1706|           wxwidgets|    3|\n",
      "|2024-01-05| 93682|                grob|    4|\n",
      "|2024-01-10| 22955|              median|   13|\n",
      "|2024-01-09|  8746|              prolog|   13|\n",
      "|2024-01-03| 28129|           app-store|    5|\n",
      "|2024-01-05|   364|                rest|   17|\n",
      "|2024-01-03|106469|           telemetry|    3|\n",
      "|2024-01-01|100570|       deep-learning|   11|\n",
      "|2024-01-08|   549|              ubuntu|   11|\n",
      "+----------+------+--------------------+-----+\n",
      "only showing top 20 rows\n",
      "\n"
     ]
    }
   ],
   "source": [
    "day_id_tag_count_df.show()"
   ]
  },
  {
   "cell_type": "code",
   "execution_count": 26,
   "metadata": {},
   "outputs": [],
   "source": [
    "csv_data_manager.write(day_id_tag_count_df, \"/Test\")"
   ]
  }
 ],
 "metadata": {
  "kernelspec": {
   "display_name": "venv",
   "language": "python",
   "name": "python3"
  },
  "language_info": {
   "codemirror_mode": {
    "name": "ipython",
    "version": 3
   },
   "file_extension": ".py",
   "mimetype": "text/x-python",
   "name": "python",
   "nbconvert_exporter": "python",
   "pygments_lexer": "ipython3",
   "version": "3.9.7"
  }
 },
 "nbformat": 4,
 "nbformat_minor": 2
}
